{
 "cells": [
  {
   "cell_type": "code",
   "execution_count": 1,
   "id": "d6daea21",
   "metadata": {},
   "outputs": [],
   "source": [
    "import numpy as np\n",
    "\n",
    "outcomes = [1,2,3,4,5,6]\n",
    "\n",
    "n_trials = 2\n",
    "n_simulations = 1_000_000"
   ]
  },
  {
   "cell_type": "code",
   "execution_count": null,
   "id": "9f89797e",
   "metadata": {},
   "outputs": [],
   "source": []
  },
  {
   "cell_type": "code",
   "execution_count": 3,
   "id": "b18e8f42",
   "metadata": {
    "scrolled": true
   },
   "outputs": [
    {
     "data": {
      "text/plain": [
       "array([[5, 2],\n",
       "       [1, 1],\n",
       "       [4, 6],\n",
       "       ...,\n",
       "       [1, 2],\n",
       "       [2, 3],\n",
       "       [4, 3]])"
      ]
     },
     "execution_count": 3,
     "metadata": {},
     "output_type": "execute_result"
    }
   ],
   "source": [
    "dice_rolls = np.random.choice(outcomes, (n_simulations, n_trials))\n",
    "dice_rolls"
   ]
  },
  {
   "cell_type": "code",
   "execution_count": 14,
   "id": "c1531d22",
   "metadata": {
    "scrolled": true
   },
   "outputs": [
    {
     "name": "stdout",
     "output_type": "stream",
     "text": [
      "167008\n"
     ]
    },
    {
     "data": {
      "text/plain": [
       "0.167008"
      ]
     },
     "execution_count": 14,
     "metadata": {},
     "output_type": "execute_result"
    }
   ],
   "source": [
    "result = sum([1 for roll in dice_rolls if roll[0] == roll[1]])\n",
    "print(result)\n",
    "\n",
    "result / n_simulations"
   ]
  },
  {
   "cell_type": "code",
   "execution_count": null,
   "id": "6d3c1223",
   "metadata": {},
   "outputs": [],
   "source": [
    "result"
   ]
  },
  {
   "cell_type": "markdown",
   "id": "775da574",
   "metadata": {},
   "source": [
    "## How likely is it that you roll doubles when rolling two dice?"
   ]
  },
  {
   "cell_type": "code",
   "execution_count": null,
   "id": "b67a8cc4",
   "metadata": {},
   "outputs": [],
   "source": []
  },
  {
   "cell_type": "markdown",
   "id": "c8575290",
   "metadata": {},
   "source": [
    "## If you flip 8 coins, what is the probability of getting exactly 3 heads? What is the probability of getting more than 3 heads?"
   ]
  },
  {
   "cell_type": "code",
   "execution_count": 15,
   "id": "4381c4ad",
   "metadata": {
    "scrolled": true
   },
   "outputs": [
    {
     "data": {
      "text/plain": [
       "array([['H', 'H', 'H', ..., 'H', 'T', 'H'],\n",
       "       ['T', 'H', 'H', ..., 'H', 'H', 'T'],\n",
       "       ['H', 'T', 'T', ..., 'T', 'H', 'T'],\n",
       "       ...,\n",
       "       ['H', 'T', 'H', ..., 'T', 'H', 'T'],\n",
       "       ['T', 'H', 'H', ..., 'H', 'T', 'T'],\n",
       "       ['T', 'H', 'T', ..., 'H', 'T', 'H']], dtype='<U1')"
      ]
     },
     "execution_count": 15,
     "metadata": {},
     "output_type": "execute_result"
    }
   ],
   "source": [
    "outcomes = ['H', 'T']\n",
    "\n",
    "n_trials = 8\n",
    "n_simulations = 1_000_000\n",
    "\n",
    "flips = np.random.choice(outcomes, (n_simulations, n_trials))\n",
    "flips"
   ]
  },
  {
   "cell_type": "code",
   "execution_count": 22,
   "id": "00a8b2ec",
   "metadata": {
    "scrolled": true
   },
   "outputs": [
    {
     "data": {
      "text/plain": [
       "218293"
      ]
     },
     "execution_count": 22,
     "metadata": {},
     "output_type": "execute_result"
    }
   ],
   "source": [
    "three_heads = sum([1 for flip in flips if sum([1 for item in flip if item == 'H']) == 3])\n",
    "three_heads"
   ]
  },
  {
   "cell_type": "code",
   "execution_count": 23,
   "id": "2b1db2f7",
   "metadata": {
    "scrolled": true
   },
   "outputs": [
    {
     "data": {
      "text/plain": [
       "0.218293"
      ]
     },
     "execution_count": 23,
     "metadata": {},
     "output_type": "execute_result"
    }
   ],
   "source": [
    "three_heads / n_simulations"
   ]
  },
  {
   "cell_type": "code",
   "execution_count": 24,
   "id": "24e1d714",
   "metadata": {},
   "outputs": [
    {
     "data": {
      "text/plain": [
       "636730"
      ]
     },
     "execution_count": 24,
     "metadata": {},
     "output_type": "execute_result"
    }
   ],
   "source": [
    "more_than_three_heads = sum([1 for flip in flips if sum([1 for item in flip if item == 'H']) > 3])\n",
    "more_than_three_heads"
   ]
  },
  {
   "cell_type": "code",
   "execution_count": 25,
   "id": "72433c37",
   "metadata": {},
   "outputs": [
    {
     "data": {
      "text/plain": [
       "0.63673"
      ]
     },
     "execution_count": 25,
     "metadata": {},
     "output_type": "execute_result"
    }
   ],
   "source": [
    "more_than_three_heads / n_simulations"
   ]
  },
  {
   "cell_type": "markdown",
   "id": "2834d303",
   "metadata": {},
   "source": [
    "## There are approximitely 3 web development cohorts for every 1 data science cohort at Codeup. Assuming that Codeup randomly selects an alumni to put on a billboard, what are the odds that the two billboards I drive past both have data science students on them?"
   ]
  },
  {
   "cell_type": "code",
   "execution_count": 30,
   "id": "62b308f5",
   "metadata": {
    "scrolled": true
   },
   "outputs": [
    {
     "data": {
      "text/plain": [
       "array([['WD', 'WD'],\n",
       "       ['WD', 'WD'],\n",
       "       ['DS', 'WD'],\n",
       "       ...,\n",
       "       ['WD', 'DS'],\n",
       "       ['WD', 'WD'],\n",
       "       ['DS', 'WD']], dtype='<U2')"
      ]
     },
     "execution_count": 30,
     "metadata": {},
     "output_type": "execute_result"
    }
   ],
   "source": [
    "outcomes = ['WD', 'WD', 'WD', 'DS']\n",
    "\n",
    "n_trials = 2\n",
    "n_simulations = 1_000_000\n",
    "\n",
    "drive_bys = np.random.choice(outcomes, (n_simulations, n_trials))\n",
    "drive_bys"
   ]
  },
  {
   "cell_type": "code",
   "execution_count": 31,
   "id": "3567d81c",
   "metadata": {},
   "outputs": [
    {
     "data": {
      "text/plain": [
       "62831"
      ]
     },
     "execution_count": 31,
     "metadata": {},
     "output_type": "execute_result"
    }
   ],
   "source": [
    "results = sum([1 for sign in drive_bys if sign[0] == 'DS' and sign[1] == 'DS'])\n",
    "results"
   ]
  },
  {
   "cell_type": "code",
   "execution_count": 32,
   "id": "27119ff5",
   "metadata": {},
   "outputs": [
    {
     "data": {
      "text/plain": [
       "0.062831"
      ]
     },
     "execution_count": 32,
     "metadata": {},
     "output_type": "execute_result"
    }
   ],
   "source": [
    "results / n_simulations"
   ]
  },
  {
   "cell_type": "markdown",
   "id": "b305461a",
   "metadata": {},
   "source": [
    "## Codeup students buy, on average, 3 poptart packages with a standard deviation of 1.5 a day from the snack vending machine. If on monday the machine is restocked with 17 poptart packages, how likely is it that I will be able to buy some poptarts on Friday afternoon? (Remember, if you have mean and standard deviation, use the np.random.normal) You'll need to make a judgement call on how to handle some of your values"
   ]
  },
  {
   "cell_type": "code",
   "execution_count": 152,
   "id": "ea021786",
   "metadata": {
    "scrolled": true
   },
   "outputs": [],
   "source": [
    "\n",
    "n_trials = 5\n",
    "n_simulations = 100_000\n"
   ]
  },
  {
   "cell_type": "code",
   "execution_count": 127,
   "id": "470c13d4",
   "metadata": {
    "scrolled": true
   },
   "outputs": [
    {
     "data": {
      "text/plain": [
       "array([[ 3.38114902,  4.03243757,  3.02063676,  2.75023638,  1.62028006],\n",
       "       [ 2.40125193,  1.91088914,  2.62880992,  3.68060623,  2.65280616],\n",
       "       [ 0.33441285,  4.41626158, -0.27776815,  1.84296272,  3.09848732],\n",
       "       ...,\n",
       "       [ 2.5099518 ,  4.81879572,  2.85623768,  4.0537389 ,  0.92404929],\n",
       "       [ 4.99638016,  1.06729792,  1.50109961,  2.93622822,  4.0547425 ],\n",
       "       [ 4.99759641,  2.98831096,  1.50177281,  3.2625529 ,  0.92339995]])"
      ]
     },
     "execution_count": 127,
     "metadata": {},
     "output_type": "execute_result"
    }
   ],
   "source": [
    "simulated_weeks = np.random.choice(np.random.normal(loc=3, scale=1.5, size=100000), (n_simulations, n_trials))\n",
    "simulated_weeks"
   ]
  },
  {
   "cell_type": "code",
   "execution_count": 140,
   "id": "4696747a",
   "metadata": {},
   "outputs": [
    {
     "data": {
      "text/plain": [
       "38065"
      ]
     },
     "execution_count": 140,
     "metadata": {},
     "output_type": "execute_result"
    }
   ],
   "source": [
    "results = sum([1 for week in simulated_weeks if sum(week)>= 16])\n",
    "results"
   ]
  },
  {
   "cell_type": "code",
   "execution_count": 142,
   "id": "2c4ea405",
   "metadata": {},
   "outputs": [
    {
     "data": {
      "text/plain": [
       "0.6193500000000001"
      ]
     },
     "execution_count": 142,
     "metadata": {},
     "output_type": "execute_result"
    }
   ],
   "source": [
    "1- (results / n_simulations)"
   ]
  },
  {
   "cell_type": "markdown",
   "id": "6b56a412",
   "metadata": {},
   "source": [
    "## Compare Heights\n",
    "Men have an average height of 178 cm and standard deviation of 8cm.\n",
    "Women have a mean of 170, sd = 6cm.\n",
    "Since you have means and standard deviations, you can use np.random.normal to generate observations.\n",
    "If a man and woman are chosen at random, what is the likelihood the woman is taller than the man?"
   ]
  },
  {
   "cell_type": "code",
   "execution_count": 136,
   "id": "c3b52fee",
   "metadata": {},
   "outputs": [
    {
     "data": {
      "text/plain": [
       "array([173.61993317, 179.84890585, 168.89306344, ..., 166.21720316,\n",
       "       172.85677228, 177.74123261])"
      ]
     },
     "execution_count": 136,
     "metadata": {},
     "output_type": "execute_result"
    }
   ],
   "source": [
    "m_heights = np.random.normal(loc= 178, scale= 8, size=1000000)\n",
    "m_heights\n",
    "\n",
    "f_heights = np.random.normal(loc= 170, scale= 6, size=1000000)\n",
    "f_heights"
   ]
  },
  {
   "cell_type": "code",
   "execution_count": 244,
   "id": "0276ab95",
   "metadata": {},
   "outputs": [
    {
     "data": {
      "text/plain": [
       "0.211271"
      ]
     },
     "execution_count": 244,
     "metadata": {},
     "output_type": "execute_result"
    }
   ],
   "source": [
    "results = []\n",
    "for i in range(1,1000000):\n",
    "    man = np.random.choice(m_heights, (1,1))\n",
    "    woman = np.random.choice(f_heights, (1,1))\n",
    "    if woman > man:\n",
    "        results.append(True)\n",
    "        \n",
    "len(results)/1000000"
   ]
  },
  {
   "cell_type": "code",
   "execution_count": 293,
   "id": "4cee21cf",
   "metadata": {},
   "outputs": [
    {
     "data": {
      "text/plain": [
       "0.21114"
      ]
     },
     "execution_count": 293,
     "metadata": {},
     "output_type": "execute_result"
    }
   ],
   "source": [
    "m_heights = np.random.normal(loc= 178, scale= 8, size=100000)\n",
    "m_heights\n",
    "\n",
    "f_heights = np.random.normal(loc= 170, scale= 6, size=100000)\n",
    "f_heights\n",
    "\n",
    "results = []\n",
    "for i in range(1,100001):\n",
    "    man = np.random.choice(m_heights, (1,1))\n",
    "    woman = np.random.choice(f_heights, (1,1))\n",
    "    if woman > man:\n",
    "        results.append(True)\n",
    "        \n",
    "len(results)/100000"
   ]
  },
  {
   "cell_type": "markdown",
   "id": "94b657b9",
   "metadata": {},
   "source": [
    "## When installing anaconda on a student's computer, there's a 1 in 250 chance that the download is corrupted and the installation fails. "
   ]
  },
  {
   "cell_type": "markdown",
   "id": "390753ee",
   "metadata": {},
   "source": [
    "## What are the odds that after having 50 students download anaconda, no one has an installation issue? 100 students?"
   ]
  },
  {
   "cell_type": "code",
   "execution_count": 229,
   "id": "2fb32630",
   "metadata": {},
   "outputs": [],
   "source": [
    "outcomes = ['W' for i in range(1,250)]\n",
    "outcomes.append('F')\n",
    "\n",
    "\n",
    "n_trials = 50\n",
    "n_simulations = 1000000"
   ]
  },
  {
   "cell_type": "code",
   "execution_count": 172,
   "id": "7202eaae",
   "metadata": {
    "scrolled": true
   },
   "outputs": [
    {
     "data": {
      "text/plain": [
       "array([['W', 'W', 'W', ..., 'W', 'W', 'W'],\n",
       "       ['W', 'W', 'W', ..., 'W', 'W', 'W'],\n",
       "       ['W', 'W', 'W', ..., 'W', 'W', 'W'],\n",
       "       ...,\n",
       "       ['W', 'W', 'W', ..., 'W', 'W', 'W'],\n",
       "       ['W', 'W', 'W', ..., 'W', 'W', 'W'],\n",
       "       ['W', 'W', 'W', ..., 'W', 'W', 'W']], dtype='<U1')"
      ]
     },
     "execution_count": 172,
     "metadata": {},
     "output_type": "execute_result"
    }
   ],
   "source": [
    "install_sessions = np.random.choice(outcomes, (n_simulations, n_trials))\n",
    "install_sessions"
   ]
  },
  {
   "cell_type": "code",
   "execution_count": 173,
   "id": "d722884d",
   "metadata": {},
   "outputs": [
    {
     "data": {
      "text/plain": [
       "181261"
      ]
     },
     "execution_count": 173,
     "metadata": {},
     "output_type": "execute_result"
    }
   ],
   "source": [
    "failed_sessions = len([1 for session in install_sessions if len([1 for char in session if char == 'F']) > 0])\n",
    "failed_sessions"
   ]
  },
  {
   "cell_type": "code",
   "execution_count": 175,
   "id": "3d7a1b33",
   "metadata": {},
   "outputs": [
    {
     "data": {
      "text/plain": [
       "0.818739"
      ]
     },
     "execution_count": 175,
     "metadata": {},
     "output_type": "execute_result"
    }
   ],
   "source": [
    "1- (failed_sessions / n_simulations)"
   ]
  },
  {
   "cell_type": "markdown",
   "id": "c3d0888b",
   "metadata": {},
   "source": [
    "## What is the probability that we observe an installation issue within the first 150 students that download anaconda?"
   ]
  },
  {
   "cell_type": "code",
   "execution_count": 176,
   "id": "c64518fe",
   "metadata": {},
   "outputs": [],
   "source": [
    "n_trials = 150\n",
    "n_simulations = 1000000\n"
   ]
  },
  {
   "cell_type": "code",
   "execution_count": null,
   "id": "fee57e86",
   "metadata": {},
   "outputs": [],
   "source": [
    "install_sessions = np.random.choice(outcomes, (n_simulations, n_trials))\n",
    "install_sessions"
   ]
  },
  {
   "cell_type": "code",
   "execution_count": 177,
   "id": "2507c488",
   "metadata": {},
   "outputs": [
    {
     "data": {
      "text/plain": [
       "452323"
      ]
     },
     "execution_count": 177,
     "metadata": {},
     "output_type": "execute_result"
    }
   ],
   "source": [
    "failed_sessions = len([1 for session in install_sessions if len([1 for char in session if char == 'F']) > 0])\n",
    "failed_sessions"
   ]
  },
  {
   "cell_type": "code",
   "execution_count": 178,
   "id": "7eb2106a",
   "metadata": {},
   "outputs": [
    {
     "data": {
      "text/plain": [
       "0.452323"
      ]
     },
     "execution_count": 178,
     "metadata": {},
     "output_type": "execute_result"
    }
   ],
   "source": [
    "failed_sessions / n_simulations"
   ]
  },
  {
   "cell_type": "markdown",
   "id": "08bb9972",
   "metadata": {},
   "source": [
    "## How likely is it that 450 students all download anaconda without an issue?"
   ]
  },
  {
   "cell_type": "code",
   "execution_count": null,
   "id": "70ac7d96",
   "metadata": {},
   "outputs": [],
   "source": [
    "n_trials = 450\n",
    "n_simulations = 1000000\n"
   ]
  },
  {
   "cell_type": "code",
   "execution_count": 182,
   "id": "83d16a2a",
   "metadata": {},
   "outputs": [
    {
     "name": "stdout",
     "output_type": "stream",
     "text": [
      "451893\n"
     ]
    },
    {
     "data": {
      "text/plain": [
       "0.548107"
      ]
     },
     "execution_count": 182,
     "metadata": {},
     "output_type": "execute_result"
    }
   ],
   "source": [
    "install_sessions = np.random.choice(outcomes, (n_simulations, n_trials))\n",
    "install_sessions\n",
    "\n",
    "failed_sessions = len([1 for session in install_sessions if len([1 for char in session if char == 'F']) > 0])\n",
    "print(failed_sessions)\n",
    "\n",
    "1- (failed_sessions / n_simulations)"
   ]
  },
  {
   "cell_type": "markdown",
   "id": "729dd27b",
   "metadata": {},
   "source": [
    "## There's a 70% chance on any given day that there will be at least one food truck at Travis Park. However, you haven't seen a food truck there in 3 days. How unlikely is this?"
   ]
  },
  {
   "cell_type": "code",
   "execution_count": 187,
   "id": "812ec676",
   "metadata": {},
   "outputs": [
    {
     "data": {
      "text/plain": [
       "array([['N', 'N', 'N'],\n",
       "       ['N', 'T', 'T'],\n",
       "       ['T', 'N', 'T'],\n",
       "       ...,\n",
       "       ['T', 'T', 'T'],\n",
       "       ['T', 'N', 'T'],\n",
       "       ['N', 'N', 'N']], dtype='<U1')"
      ]
     },
     "execution_count": 187,
     "metadata": {},
     "output_type": "execute_result"
    }
   ],
   "source": [
    "outcomes = ['T','T','T','T','T','T','T','N','N','N']\n",
    "outcomes\n",
    "\n",
    "n_trials = 3\n",
    "n_simulations = 1_000_000\n",
    "\n",
    "sim_periods = np.random.choice(outcomes, (n_simulations, n_trials))\n",
    "sim_periods"
   ]
  },
  {
   "cell_type": "code",
   "execution_count": 189,
   "id": "123cd053",
   "metadata": {},
   "outputs": [
    {
     "data": {
      "text/plain": [
       "26806"
      ]
     },
     "execution_count": 189,
     "metadata": {},
     "output_type": "execute_result"
    }
   ],
   "source": [
    "results = len([1 for period in sim_periods if len([1 for char in period if char == 'N']) == 3])\n",
    "results"
   ]
  },
  {
   "cell_type": "code",
   "execution_count": 190,
   "id": "101c62cb",
   "metadata": {},
   "outputs": [
    {
     "data": {
      "text/plain": [
       "0.026806"
      ]
     },
     "execution_count": 190,
     "metadata": {},
     "output_type": "execute_result"
    }
   ],
   "source": [
    "results / n_simulations"
   ]
  },
  {
   "cell_type": "markdown",
   "id": "8291e008",
   "metadata": {},
   "source": [
    "## How likely is it that a food truck will show up sometime this week?"
   ]
  },
  {
   "cell_type": "code",
   "execution_count": 191,
   "id": "e0f9b9bd",
   "metadata": {},
   "outputs": [
    {
     "data": {
      "text/plain": [
       "array([['T', 'N', 'N', ..., 'T', 'T', 'T'],\n",
       "       ['T', 'T', 'T', ..., 'T', 'T', 'T'],\n",
       "       ['N', 'T', 'T', ..., 'T', 'T', 'T'],\n",
       "       ...,\n",
       "       ['T', 'N', 'T', ..., 'T', 'T', 'T'],\n",
       "       ['T', 'T', 'T', ..., 'N', 'N', 'T'],\n",
       "       ['T', 'T', 'T', ..., 'T', 'T', 'T']], dtype='<U1')"
      ]
     },
     "execution_count": 191,
     "metadata": {},
     "output_type": "execute_result"
    }
   ],
   "source": [
    "outcomes = ['T','T','T','T','T','T','T','N','N','N']\n",
    "outcomes\n",
    "\n",
    "n_trials = 7\n",
    "n_simulations = 1_000_000\n",
    "\n",
    "sim_periods = np.random.choice(outcomes, (n_simulations, n_trials))\n",
    "sim_periods"
   ]
  },
  {
   "cell_type": "code",
   "execution_count": 192,
   "id": "b121e2c4",
   "metadata": {},
   "outputs": [
    {
     "data": {
      "text/plain": [
       "999760"
      ]
     },
     "execution_count": 192,
     "metadata": {},
     "output_type": "execute_result"
    }
   ],
   "source": [
    "results = len([1 for period in sim_periods if len([1 for char in period if char == 'T']) > 0])\n",
    "results"
   ]
  },
  {
   "cell_type": "code",
   "execution_count": 193,
   "id": "10c5a61f",
   "metadata": {},
   "outputs": [
    {
     "data": {
      "text/plain": [
       "0.99976"
      ]
     },
     "execution_count": 193,
     "metadata": {},
     "output_type": "execute_result"
    }
   ],
   "source": [
    "results / n_simulations"
   ]
  },
  {
   "cell_type": "markdown",
   "id": "368f318d",
   "metadata": {},
   "source": [
    "## If 23 people are in the same room, what are the odds that two of them share a birthday? What if it's 20 people? 40?"
   ]
  },
  {
   "cell_type": "code",
   "execution_count": 233,
   "id": "ff9d5dc9",
   "metadata": {},
   "outputs": [],
   "source": [
    "outcomes = list(range(1, 366))\n"
   ]
  },
  {
   "cell_type": "code",
   "execution_count": 236,
   "id": "606286d9",
   "metadata": {
    "scrolled": true
   },
   "outputs": [
    {
     "data": {
      "text/plain": [
       "array([[ 25, 353, 183, ..., 159, 132, 226],\n",
       "       [154, 146, 244, ..., 218,  99, 345],\n",
       "       [253, 173, 118, ..., 346, 342, 213],\n",
       "       ...,\n",
       "       [134,  44, 349, ..., 183,   4,  74],\n",
       "       [345, 237,  70, ..., 309, 361, 170],\n",
       "       [ 38,  88, 112, ...,  59, 126,  27]])"
      ]
     },
     "execution_count": 236,
     "metadata": {},
     "output_type": "execute_result"
    }
   ],
   "source": [
    "n_trials =23\n",
    "n_simulations = 1000000\n",
    "\n",
    "bday_sessions = np.random.choice(outcomes, (n_simulations, n_trials))\n",
    "bday_sessions"
   ]
  },
  {
   "cell_type": "code",
   "execution_count": 237,
   "id": "eddff21a",
   "metadata": {},
   "outputs": [
    {
     "data": {
      "text/plain": [
       "0.507368"
      ]
     },
     "execution_count": 237,
     "metadata": {},
     "output_type": "execute_result"
    }
   ],
   "source": [
    "results = len([1 for session in bday_sessions if len(session) != len(set(session))])\n",
    "results / n_simulations"
   ]
  }
 ],
 "metadata": {
  "kernelspec": {
   "display_name": "Python 3 (ipykernel)",
   "language": "python",
   "name": "python3"
  },
  "language_info": {
   "codemirror_mode": {
    "name": "ipython",
    "version": 3
   },
   "file_extension": ".py",
   "mimetype": "text/x-python",
   "name": "python",
   "nbconvert_exporter": "python",
   "pygments_lexer": "ipython3",
   "version": "3.10.9"
  }
 },
 "nbformat": 4,
 "nbformat_minor": 5
}
