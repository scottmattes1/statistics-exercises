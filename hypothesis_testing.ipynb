{
 "cells": [
  {
   "cell_type": "code",
   "execution_count": 28,
   "id": "66d435d0",
   "metadata": {},
   "outputs": [],
   "source": [
    "import pandas as pd"
   ]
  },
  {
   "cell_type": "markdown",
   "id": "c3450951",
   "metadata": {},
   "source": [
    "# 1) Ace Realty wants to determine whether the average time it takes to sell homes is different for its two offices. A sample of 40 sales from office #1 revealed a mean of 90 days and a standard deviation of 15 days. A sample of 50 sales from office #2 revealed a mean of 100 days and a standard deviation of 20 days. Use a .05 level of significance."
   ]
  },
  {
   "cell_type": "code",
   "execution_count": 7,
   "id": "35c80d5e",
   "metadata": {},
   "outputs": [],
   "source": [
    "import numpy as np\n",
    "from scipy import stats"
   ]
  },
  {
   "cell_type": "code",
   "execution_count": 29,
   "id": "04e25a7d",
   "metadata": {},
   "outputs": [],
   "source": [
    "mean = 90\n",
    "standard_d = 15\n",
    "size = 40\n",
    "office_one = stats.norm(mean, standard_d).rvs(size)\n",
    "\n",
    "mean = 100\n",
    "standard_d = 20\n",
    "size = 50\n",
    "office_two = stats.norm(mean, standard_d).rvs(size)"
   ]
  },
  {
   "cell_type": "code",
   "execution_count": 30,
   "id": "8a218f0c",
   "metadata": {},
   "outputs": [
    {
     "data": {
      "text/plain": [
       "(5.260061244133331, 0.02420270639975342)"
      ]
     },
     "execution_count": 30,
     "metadata": {},
     "output_type": "execute_result"
    }
   ],
   "source": [
    "alpha = .05\n",
    "\n",
    "stat, pval = stats.levene(office_one, office_two)\n",
    "stat, pval"
   ]
  },
  {
   "cell_type": "code",
   "execution_count": null,
   "id": "834797d1",
   "metadata": {},
   "outputs": [],
   "source": [
    "if pval < alpha:\n",
    "    print('We can reject the null hypothesis')\n",
    "else:\n",
    "    print('we fail to reject the null hypothesis')"
   ]
  },
  {
   "cell_type": "code",
   "execution_count": null,
   "id": "e029d616",
   "metadata": {},
   "outputs": [],
   "source": [
    "stat, pval = stats.ttest_ind(office_one, office_two, equal_var=False)\n",
    "stat, pval"
   ]
  },
  {
   "cell_type": "code",
   "execution_count": null,
   "id": "ef1b426b",
   "metadata": {},
   "outputs": [],
   "source": [
    "if pval < alpha:\n",
    "    print('We can reject the null hypothesis')\n",
    "else:\n",
    "    print('we fail to reject the null hypothesis')"
   ]
  },
  {
   "cell_type": "markdown",
   "id": "04226e65",
   "metadata": {},
   "source": [
    "## 2) Load the mpg dataset and use it to answer the following questions:\n",
    "## a) Is there a difference in fuel-efficiency in cars from 2008 vs 1999?"
   ]
  },
  {
   "cell_type": "code",
   "execution_count": 33,
   "id": "5e372f4b",
   "metadata": {},
   "outputs": [],
   "source": [
    "from pydataset import data"
   ]
  },
  {
   "cell_type": "code",
   "execution_count": 34,
   "id": "0e64b205",
   "metadata": {
    "scrolled": true
   },
   "outputs": [
    {
     "data": {
      "text/html": [
       "<div>\n",
       "<style scoped>\n",
       "    .dataframe tbody tr th:only-of-type {\n",
       "        vertical-align: middle;\n",
       "    }\n",
       "\n",
       "    .dataframe tbody tr th {\n",
       "        vertical-align: top;\n",
       "    }\n",
       "\n",
       "    .dataframe thead th {\n",
       "        text-align: right;\n",
       "    }\n",
       "</style>\n",
       "<table border=\"1\" class=\"dataframe\">\n",
       "  <thead>\n",
       "    <tr style=\"text-align: right;\">\n",
       "      <th></th>\n",
       "      <th>manufacturer</th>\n",
       "      <th>model</th>\n",
       "      <th>displ</th>\n",
       "      <th>year</th>\n",
       "      <th>cyl</th>\n",
       "      <th>trans</th>\n",
       "      <th>drv</th>\n",
       "      <th>cty</th>\n",
       "      <th>hwy</th>\n",
       "      <th>fl</th>\n",
       "      <th>class</th>\n",
       "    </tr>\n",
       "  </thead>\n",
       "  <tbody>\n",
       "    <tr>\n",
       "      <th>1</th>\n",
       "      <td>audi</td>\n",
       "      <td>a4</td>\n",
       "      <td>1.8</td>\n",
       "      <td>1999</td>\n",
       "      <td>4</td>\n",
       "      <td>auto(l5)</td>\n",
       "      <td>f</td>\n",
       "      <td>18</td>\n",
       "      <td>29</td>\n",
       "      <td>p</td>\n",
       "      <td>compact</td>\n",
       "    </tr>\n",
       "    <tr>\n",
       "      <th>2</th>\n",
       "      <td>audi</td>\n",
       "      <td>a4</td>\n",
       "      <td>1.8</td>\n",
       "      <td>1999</td>\n",
       "      <td>4</td>\n",
       "      <td>manual(m5)</td>\n",
       "      <td>f</td>\n",
       "      <td>21</td>\n",
       "      <td>29</td>\n",
       "      <td>p</td>\n",
       "      <td>compact</td>\n",
       "    </tr>\n",
       "    <tr>\n",
       "      <th>3</th>\n",
       "      <td>audi</td>\n",
       "      <td>a4</td>\n",
       "      <td>2.0</td>\n",
       "      <td>2008</td>\n",
       "      <td>4</td>\n",
       "      <td>manual(m6)</td>\n",
       "      <td>f</td>\n",
       "      <td>20</td>\n",
       "      <td>31</td>\n",
       "      <td>p</td>\n",
       "      <td>compact</td>\n",
       "    </tr>\n",
       "    <tr>\n",
       "      <th>4</th>\n",
       "      <td>audi</td>\n",
       "      <td>a4</td>\n",
       "      <td>2.0</td>\n",
       "      <td>2008</td>\n",
       "      <td>4</td>\n",
       "      <td>auto(av)</td>\n",
       "      <td>f</td>\n",
       "      <td>21</td>\n",
       "      <td>30</td>\n",
       "      <td>p</td>\n",
       "      <td>compact</td>\n",
       "    </tr>\n",
       "    <tr>\n",
       "      <th>5</th>\n",
       "      <td>audi</td>\n",
       "      <td>a4</td>\n",
       "      <td>2.8</td>\n",
       "      <td>1999</td>\n",
       "      <td>6</td>\n",
       "      <td>auto(l5)</td>\n",
       "      <td>f</td>\n",
       "      <td>16</td>\n",
       "      <td>26</td>\n",
       "      <td>p</td>\n",
       "      <td>compact</td>\n",
       "    </tr>\n",
       "  </tbody>\n",
       "</table>\n",
       "</div>"
      ],
      "text/plain": [
       "  manufacturer model  displ  year  cyl       trans drv  cty  hwy fl    class\n",
       "1         audi    a4    1.8  1999    4    auto(l5)   f   18   29  p  compact\n",
       "2         audi    a4    1.8  1999    4  manual(m5)   f   21   29  p  compact\n",
       "3         audi    a4    2.0  2008    4  manual(m6)   f   20   31  p  compact\n",
       "4         audi    a4    2.0  2008    4    auto(av)   f   21   30  p  compact\n",
       "5         audi    a4    2.8  1999    6    auto(l5)   f   16   26  p  compact"
      ]
     },
     "execution_count": 34,
     "metadata": {},
     "output_type": "execute_result"
    }
   ],
   "source": [
    "mpg = data('mpg')\n",
    "mpg.head()"
   ]
  },
  {
   "cell_type": "code",
   "execution_count": null,
   "id": "b879341e",
   "metadata": {
    "scrolled": false
   },
   "outputs": [],
   "source": [
    "mpg = mpg.rename(columns = {'cyl': 'cylinders', 'trans': 'transmission', 'cty': 'city', 'hwy':'highway', 'fl': 'fuel type'})\n",
    "mpg.head()"
   ]
  },
  {
   "cell_type": "code",
   "execution_count": null,
   "id": "2751f19a",
   "metadata": {},
   "outputs": [],
   "source": [
    "mpg['average_efficiency'] = mpg['city'] + mpg['highway'] / 2\n",
    "mpg"
   ]
  },
  {
   "cell_type": "code",
   "execution_count": null,
   "id": "626fdb17",
   "metadata": {},
   "outputs": [],
   "source": [
    "ninety_nine = mpg[mpg['year'] == 1999].average_efficiency\n",
    "ninety_nine.hist()"
   ]
  },
  {
   "cell_type": "code",
   "execution_count": null,
   "id": "be817da4",
   "metadata": {},
   "outputs": [],
   "source": [
    "oh_eight = mpg[mpg['year'] == 2008].average_efficiency\n",
    "oh_eight.hist()"
   ]
  },
  {
   "cell_type": "code",
   "execution_count": null,
   "id": "01798d4f",
   "metadata": {},
   "outputs": [],
   "source": [
    "nn_mean = ninety_nine.mean()\n",
    "oe_mean = oh_eight.mean()\n",
    "\n",
    "nn_mean, oe_mean"
   ]
  },
  {
   "cell_type": "code",
   "execution_count": null,
   "id": "11e3be04",
   "metadata": {},
   "outputs": [],
   "source": [
    "import scipy.stats as stats\n",
    "alpha = .05\n",
    "\n",
    "# H0 = the means are not meaningfully different\n",
    "# Ha = the means are meaningfully different"
   ]
  },
  {
   "cell_type": "code",
   "execution_count": null,
   "id": "20a640c2",
   "metadata": {},
   "outputs": [],
   "source": [
    "stat, pval = stats.levene(ninety_nine, oh_eight)"
   ]
  },
  {
   "cell_type": "code",
   "execution_count": null,
   "id": "912af5cc",
   "metadata": {},
   "outputs": [],
   "source": [
    "stat, pval"
   ]
  },
  {
   "cell_type": "code",
   "execution_count": null,
   "id": "4d1c1043",
   "metadata": {},
   "outputs": [],
   "source": [
    "if (pval < alpha):\n",
    "    print('We can reject the null hypothesis')\n",
    "else:\n",
    "    print('we fail to reject the null hypothesis')"
   ]
  },
  {
   "cell_type": "markdown",
   "id": "ab4de803",
   "metadata": {},
   "source": [
    "# b) Are compact cars more fuel-efficient than the average car?"
   ]
  },
  {
   "cell_type": "code",
   "execution_count": null,
   "id": "6eb6591d",
   "metadata": {
    "scrolled": true
   },
   "outputs": [],
   "source": [
    "overall_average_eff = mpg['average_efficiency'].mean()\n",
    "overall_average_eff"
   ]
  },
  {
   "cell_type": "code",
   "execution_count": null,
   "id": "855f61a9",
   "metadata": {},
   "outputs": [],
   "source": [
    "compact_efficiency = mpg[mpg['class'] == 'compact'].average_efficiency"
   ]
  },
  {
   "cell_type": "code",
   "execution_count": null,
   "id": "d99f3383",
   "metadata": {},
   "outputs": [],
   "source": [
    "alpha = .05"
   ]
  },
  {
   "cell_type": "code",
   "execution_count": null,
   "id": "91e9923b",
   "metadata": {},
   "outputs": [],
   "source": [
    "test, pval = stats.ttest_1samp(compact_efficiency, overall_average_eff)\n",
    "test, pval"
   ]
  },
  {
   "cell_type": "code",
   "execution_count": null,
   "id": "056728d4",
   "metadata": {},
   "outputs": [],
   "source": [
    "if test > 0 and pval/2 < alpha:\n",
    "    print('We can reject the null hypothesis')\n",
    "else:\n",
    "    print('we fail to reject the null hypothesis')"
   ]
  },
  {
   "cell_type": "markdown",
   "id": "5c45a00c",
   "metadata": {},
   "source": [
    "# c) Do manual cars get better gas mileage than automatic cars?"
   ]
  },
  {
   "cell_type": "code",
   "execution_count": 31,
   "id": "958a7678",
   "metadata": {
    "scrolled": true
   },
   "outputs": [
    {
     "ename": "NameError",
     "evalue": "name 'mpg' is not defined",
     "output_type": "error",
     "traceback": [
      "\u001b[0;31m---------------------------------------------------------------------------\u001b[0m",
      "\u001b[0;31mNameError\u001b[0m                                 Traceback (most recent call last)",
      "Cell \u001b[0;32mIn[31], line 1\u001b[0m\n\u001b[0;32m----> 1\u001b[0m mask \u001b[38;5;241m=\u001b[39m \u001b[43mmpg\u001b[49m[\u001b[38;5;124m'\u001b[39m\u001b[38;5;124mtransmission\u001b[39m\u001b[38;5;124m'\u001b[39m]\u001b[38;5;241m.\u001b[39mstr\u001b[38;5;241m.\u001b[39mcontains(\u001b[38;5;124m'\u001b[39m\u001b[38;5;124mauto\u001b[39m\u001b[38;5;124m'\u001b[39m)\n\u001b[1;32m      2\u001b[0m mpg[\u001b[38;5;124m'\u001b[39m\u001b[38;5;124mtransmission\u001b[39m\u001b[38;5;124m'\u001b[39m] \u001b[38;5;241m=\u001b[39m mpg[\u001b[38;5;124m'\u001b[39m\u001b[38;5;124mtransmission\u001b[39m\u001b[38;5;124m'\u001b[39m]\u001b[38;5;241m.\u001b[39mwhere(\u001b[38;5;241m~\u001b[39mmask, \u001b[38;5;124m'\u001b[39m\u001b[38;5;124mauto\u001b[39m\u001b[38;5;124m'\u001b[39m)\n\u001b[1;32m      4\u001b[0m mask \u001b[38;5;241m=\u001b[39m mpg[\u001b[38;5;124m'\u001b[39m\u001b[38;5;124mtransmission\u001b[39m\u001b[38;5;124m'\u001b[39m]\u001b[38;5;241m.\u001b[39mstr\u001b[38;5;241m.\u001b[39mcontains(\u001b[38;5;124m'\u001b[39m\u001b[38;5;124mmanual\u001b[39m\u001b[38;5;124m'\u001b[39m)\n",
      "\u001b[0;31mNameError\u001b[0m: name 'mpg' is not defined"
     ]
    }
   ],
   "source": [
    "mask = mpg['transmission'].str.contains('auto')\n",
    "mpg['transmission'] = mpg['transmission'].where(~mask, 'auto')\n",
    "\n",
    "mask = mpg['transmission'].str.contains('manual')\n",
    "mpg['transmission'] = mpg['transmission'].where(~mask, 'manual')\n",
    "\n",
    "mpg.head()"
   ]
  },
  {
   "cell_type": "code",
   "execution_count": null,
   "id": "16880e60",
   "metadata": {},
   "outputs": [],
   "source": [
    "autos = mpg[mpg['transmission'] == 'auto'].average_efficiency\n",
    "manuals = mpg[mpg['transmission'] == 'manual'].average_efficiency"
   ]
  },
  {
   "cell_type": "code",
   "execution_count": null,
   "id": "f780145a",
   "metadata": {
    "scrolled": false
   },
   "outputs": [],
   "source": [
    "print(autos.mean())\n",
    "manuals.mean()"
   ]
  },
  {
   "cell_type": "code",
   "execution_count": null,
   "id": "26ff4651",
   "metadata": {},
   "outputs": [],
   "source": [
    "alpha = .05\n",
    "\n",
    "stat, pval = stats.levene(manuals, autos)\n",
    "stat, pval"
   ]
  },
  {
   "cell_type": "code",
   "execution_count": null,
   "id": "c89657cd",
   "metadata": {},
   "outputs": [],
   "source": [
    "if (stat < 0) and (pval < alpha):\n",
    "    print('We can reject the null hypothesis')\n",
    "else:\n",
    "    print('we fail to reject the null hypothesis')"
   ]
  },
  {
   "cell_type": "markdown",
   "id": "e72c2b70",
   "metadata": {},
   "source": []
  },
  {
   "cell_type": "markdown",
   "id": "b50a94f1",
   "metadata": {},
   "source": [
    "Answer with the type of stats test you would use (assume normal distribution):"
   ]
  },
  {
   "cell_type": "markdown",
   "id": "88f58dba",
   "metadata": {},
   "source": [
    "Is there a relationship between the length of your arm and the length of your foot?"
   ]
  },
  {
   "cell_type": "markdown",
   "id": "5838e185",
   "metadata": {},
   "source": [
    "Do guys and gals quit their jobs at the same rate?"
   ]
  },
  {
   "cell_type": "markdown",
   "id": "0fe0e0c6",
   "metadata": {},
   "source": [
    "Does the length of time of the lecture correlate with a students grade?"
   ]
  },
  {
   "cell_type": "markdown",
   "id": "ac9b8aec",
   "metadata": {},
   "source": [
    "Use the telco_churn data."
   ]
  },
  {
   "cell_type": "code",
   "execution_count": 11,
   "id": "2c8c1646",
   "metadata": {},
   "outputs": [],
   "source": [
    "churn = pd.read_csv('modified_telco.csv')\n",
    "churn.head()\n",
    "\n",
    "from env import hostname, user, password\n",
    "\n",
    "def get_db_url(user, hostname, password, db_name):\n",
    "    return(f'mysql+pymysql://{user}:{password}@{hostname}/{db_name}')\n",
    "\n"
   ]
  },
  {
   "cell_type": "code",
   "execution_count": 12,
   "id": "3b4dd6c0",
   "metadata": {},
   "outputs": [],
   "source": [
    "url = get_db_url(user, hostname, password, 'telco_churn')\n",
    "query = 'SELECT * FROM customers'\n",
    "\n",
    "df = pd.read_sql(query, url)"
   ]
  },
  {
   "cell_type": "code",
   "execution_count": null,
   "id": "2aa43469",
   "metadata": {
    "scrolled": true
   },
   "outputs": [],
   "source": [
    "df.head()"
   ]
  },
  {
   "cell_type": "code",
   "execution_count": null,
   "id": "31a37342",
   "metadata": {},
   "outputs": [],
   "source": [
    "r, p = stats.pearson"
   ]
  },
  {
   "cell_type": "markdown",
   "id": "64dc30f0",
   "metadata": {},
   "source": [
    "Does tenure correlate with monthly charges?"
   ]
  },
  {
   "cell_type": "code",
   "execution_count": null,
   "id": "5230969a",
   "metadata": {
    "scrolled": false
   },
   "outputs": [],
   "source": [
    "df"
   ]
  },
  {
   "cell_type": "code",
   "execution_count": null,
   "id": "36cfd753",
   "metadata": {},
   "outputs": [],
   "source": [
    "from scipy import stats"
   ]
  },
  {
   "cell_type": "code",
   "execution_count": null,
   "id": "76cab388",
   "metadata": {},
   "outputs": [],
   "source": [
    "type(df.total_charges)"
   ]
  },
  {
   "cell_type": "code",
   "execution_count": null,
   "id": "f52d76a7",
   "metadata": {},
   "outputs": [],
   "source": [
    "cor, p = stats.pearsonr(df.tenure, df.monthly_charges)\n",
    "cor, p"
   ]
  },
  {
   "cell_type": "markdown",
   "id": "f0c1c53a",
   "metadata": {},
   "source": [
    "Total charges?"
   ]
  },
  {
   "cell_type": "code",
   "execution_count": null,
   "id": "da3f9451",
   "metadata": {},
   "outputs": [],
   "source": [
    "new_df = df[df['total_charges'] != ' ']\n",
    "new_df['total_charges'] = new_df['total_charges'].astype('float')"
   ]
  },
  {
   "cell_type": "markdown",
   "id": "aae59635",
   "metadata": {},
   "source": [
    "$H_0$: There is not a meaningful relationship between tenure and monthly charges\n",
    "\n",
    "$H_A$: There is a meaningful relationship and monthly charges"
   ]
  },
  {
   "cell_type": "code",
   "execution_count": null,
   "id": "20084512",
   "metadata": {},
   "outputs": [],
   "source": [
    "alpha = .05\n",
    "\n",
    "cor, p = stats.pearsonr(new_df.tenure, new_df.total_charges)\n",
    "cor, p"
   ]
  },
  {
   "cell_type": "code",
   "execution_count": null,
   "id": "3c55f7d2",
   "metadata": {},
   "outputs": [],
   "source": [
    "if alpha < p:\n",
    "    print('We fail to reject the null hypothesis')\n",
    "else:\n",
    "    print('We can reject the null hypothesis')"
   ]
  },
  {
   "cell_type": "markdown",
   "id": "5b2efeda",
   "metadata": {},
   "source": [
    "What happens if you control for phone and internet service?"
   ]
  },
  {
   "cell_type": "code",
   "execution_count": null,
   "id": "993922f5",
   "metadata": {},
   "outputs": [],
   "source": [
    "df.phone_service.unique()"
   ]
  },
  {
   "cell_type": "code",
   "execution_count": null,
   "id": "a6cf9e68",
   "metadata": {},
   "outputs": [],
   "source": [
    "no_phone = new_df[new_df['phone_service'] == 'No']"
   ]
  },
  {
   "cell_type": "markdown",
   "id": "2277d937",
   "metadata": {},
   "source": [
    "$H_0$: There is not a meaningful relationship between tenure and monthly charges\n",
    "\n",
    "$H_A$: There is a meaningful relationship and monthly charges"
   ]
  },
  {
   "cell_type": "code",
   "execution_count": null,
   "id": "46d122ad",
   "metadata": {},
   "outputs": [],
   "source": [
    "alpha = .05\n",
    "\n",
    "cor, p = stats.pearsonr(no_phone.tenure, no_phone.total_charges)\n",
    "cor, p\n",
    "\n",
    "if alpha < p:\n",
    "    print('We fail to reject the null hypothesis')\n",
    "else:\n",
    "    print('We can reject the null hypothesis')"
   ]
  },
  {
   "cell_type": "code",
   "execution_count": null,
   "id": "8b73380f",
   "metadata": {},
   "outputs": [],
   "source": [
    "yes_phone = new_df[new_df['phone_service'] == 'Yes']"
   ]
  },
  {
   "cell_type": "code",
   "execution_count": null,
   "id": "350bbc73",
   "metadata": {},
   "outputs": [],
   "source": [
    "alpha = .05\n",
    "\n",
    "cor, p = stats.pearsonr(yes_phone.tenure, yes_phone.total_charges)\n",
    "cor, p\n",
    "\n",
    "if alpha < p:\n",
    "    print('We fail to reject the null hypothesis')\n",
    "else:\n",
    "    print('We can reject the null hypothesis')"
   ]
  },
  {
   "cell_type": "code",
   "execution_count": null,
   "id": "867219fd",
   "metadata": {},
   "outputs": [],
   "source": [
    "id_one = new_df[new_df['internet_service_type_id'] == 1]"
   ]
  },
  {
   "cell_type": "code",
   "execution_count": null,
   "id": "eed0db32",
   "metadata": {},
   "outputs": [],
   "source": [
    "alpha = .05\n",
    "\n",
    "cor, p = stats.pearsonr(id_one.tenure, id_one.total_charges)\n",
    "cor, p\n",
    "\n",
    "if alpha < p:\n",
    "    print('We fail to reject the null hypothesis')\n",
    "else:\n",
    "    print('We can reject the null hypothesis')"
   ]
  },
  {
   "cell_type": "code",
   "execution_count": null,
   "id": "b993ec1d",
   "metadata": {},
   "outputs": [],
   "source": [
    "id_two = new_df[new_df['internet_service_type_id'] == 2]"
   ]
  },
  {
   "cell_type": "code",
   "execution_count": null,
   "id": "346691b6",
   "metadata": {},
   "outputs": [],
   "source": [
    "alpha = .05\n",
    "\n",
    "cor, p = stats.pearsonr(id_two.tenure, id_two.total_charges)\n",
    "cor, p\n",
    "\n",
    "if alpha < p:\n",
    "    print('We fail to reject the null hypothesis')\n",
    "else:\n",
    "    print('We can reject the null hypothesis')"
   ]
  },
  {
   "cell_type": "code",
   "execution_count": null,
   "id": "798b6ddb",
   "metadata": {},
   "outputs": [],
   "source": [
    "id_three = new_df[new_df['internet_service_type_id'] == 3]"
   ]
  },
  {
   "cell_type": "code",
   "execution_count": null,
   "id": "cf619384",
   "metadata": {},
   "outputs": [],
   "source": [
    "alpha = .05\n",
    "\n",
    "cor, p = stats.pearsonr(id_three.tenure, id_three.total_charges)\n",
    "cor, p\n",
    "\n",
    "if alpha < p:\n",
    "    print('We fail to reject the null hypothesis')\n",
    "else:\n",
    "    print('We can reject the null hypothesis')"
   ]
  },
  {
   "cell_type": "markdown",
   "id": "9e34173f",
   "metadata": {},
   "source": [
    "Use the employees database."
   ]
  },
  {
   "cell_type": "code",
   "execution_count": 13,
   "id": "06200559",
   "metadata": {
    "scrolled": true
   },
   "outputs": [
    {
     "data": {
      "text/html": [
       "<div>\n",
       "<style scoped>\n",
       "    .dataframe tbody tr th:only-of-type {\n",
       "        vertical-align: middle;\n",
       "    }\n",
       "\n",
       "    .dataframe tbody tr th {\n",
       "        vertical-align: top;\n",
       "    }\n",
       "\n",
       "    .dataframe thead th {\n",
       "        text-align: right;\n",
       "    }\n",
       "</style>\n",
       "<table border=\"1\" class=\"dataframe\">\n",
       "  <thead>\n",
       "    <tr style=\"text-align: right;\">\n",
       "      <th></th>\n",
       "      <th>emp_no</th>\n",
       "      <th>salary</th>\n",
       "      <th>from_date</th>\n",
       "      <th>to_date</th>\n",
       "    </tr>\n",
       "  </thead>\n",
       "  <tbody>\n",
       "    <tr>\n",
       "      <th>0</th>\n",
       "      <td>10001</td>\n",
       "      <td>60117</td>\n",
       "      <td>1986-06-26</td>\n",
       "      <td>1987-06-26</td>\n",
       "    </tr>\n",
       "    <tr>\n",
       "      <th>1</th>\n",
       "      <td>10001</td>\n",
       "      <td>62102</td>\n",
       "      <td>1987-06-26</td>\n",
       "      <td>1988-06-25</td>\n",
       "    </tr>\n",
       "    <tr>\n",
       "      <th>2</th>\n",
       "      <td>10001</td>\n",
       "      <td>66074</td>\n",
       "      <td>1988-06-25</td>\n",
       "      <td>1989-06-25</td>\n",
       "    </tr>\n",
       "    <tr>\n",
       "      <th>3</th>\n",
       "      <td>10001</td>\n",
       "      <td>66596</td>\n",
       "      <td>1989-06-25</td>\n",
       "      <td>1990-06-25</td>\n",
       "    </tr>\n",
       "    <tr>\n",
       "      <th>4</th>\n",
       "      <td>10001</td>\n",
       "      <td>66961</td>\n",
       "      <td>1990-06-25</td>\n",
       "      <td>1991-06-25</td>\n",
       "    </tr>\n",
       "  </tbody>\n",
       "</table>\n",
       "</div>"
      ],
      "text/plain": [
       "   emp_no  salary   from_date     to_date\n",
       "0   10001   60117  1986-06-26  1987-06-26\n",
       "1   10001   62102  1987-06-26  1988-06-25\n",
       "2   10001   66074  1988-06-25  1989-06-25\n",
       "3   10001   66596  1989-06-25  1990-06-25\n",
       "4   10001   66961  1990-06-25  1991-06-25"
      ]
     },
     "execution_count": 13,
     "metadata": {},
     "output_type": "execute_result"
    }
   ],
   "source": [
    "url = get_db_url(user, hostname, password, 'employees')\n",
    "query = 'SELECT * FROM employees'\n",
    "\n",
    "url1 = get_db_url(user, hostname, password, 'employees')\n",
    "query1 = 'SELECT * FROM salaries'\n",
    "\n",
    "employees = pd.read_sql(query, url)\n",
    "salaries = pd.read_sql(query1, url1)\n",
    "employees.head()\n",
    "salaries.head()"
   ]
  },
  {
   "cell_type": "code",
   "execution_count": 14,
   "id": "5951a19e",
   "metadata": {},
   "outputs": [
    {
     "data": {
      "text/html": [
       "<div>\n",
       "<style scoped>\n",
       "    .dataframe tbody tr th:only-of-type {\n",
       "        vertical-align: middle;\n",
       "    }\n",
       "\n",
       "    .dataframe tbody tr th {\n",
       "        vertical-align: top;\n",
       "    }\n",
       "\n",
       "    .dataframe thead th {\n",
       "        text-align: right;\n",
       "    }\n",
       "</style>\n",
       "<table border=\"1\" class=\"dataframe\">\n",
       "  <thead>\n",
       "    <tr style=\"text-align: right;\">\n",
       "      <th></th>\n",
       "      <th>emp_no</th>\n",
       "      <th>birth_date</th>\n",
       "      <th>first_name</th>\n",
       "      <th>last_name</th>\n",
       "      <th>gender</th>\n",
       "      <th>hire_date</th>\n",
       "    </tr>\n",
       "  </thead>\n",
       "  <tbody>\n",
       "    <tr>\n",
       "      <th>0</th>\n",
       "      <td>10001</td>\n",
       "      <td>1953-09-02</td>\n",
       "      <td>Georgi</td>\n",
       "      <td>Facello</td>\n",
       "      <td>M</td>\n",
       "      <td>1986-06-26</td>\n",
       "    </tr>\n",
       "    <tr>\n",
       "      <th>1</th>\n",
       "      <td>10002</td>\n",
       "      <td>1964-06-02</td>\n",
       "      <td>Bezalel</td>\n",
       "      <td>Simmel</td>\n",
       "      <td>F</td>\n",
       "      <td>1985-11-21</td>\n",
       "    </tr>\n",
       "    <tr>\n",
       "      <th>2</th>\n",
       "      <td>10003</td>\n",
       "      <td>1959-12-03</td>\n",
       "      <td>Parto</td>\n",
       "      <td>Bamford</td>\n",
       "      <td>M</td>\n",
       "      <td>1986-08-28</td>\n",
       "    </tr>\n",
       "    <tr>\n",
       "      <th>3</th>\n",
       "      <td>10004</td>\n",
       "      <td>1954-05-01</td>\n",
       "      <td>Chirstian</td>\n",
       "      <td>Koblick</td>\n",
       "      <td>M</td>\n",
       "      <td>1986-12-01</td>\n",
       "    </tr>\n",
       "    <tr>\n",
       "      <th>4</th>\n",
       "      <td>10005</td>\n",
       "      <td>1955-01-21</td>\n",
       "      <td>Kyoichi</td>\n",
       "      <td>Maliniak</td>\n",
       "      <td>M</td>\n",
       "      <td>1989-09-12</td>\n",
       "    </tr>\n",
       "  </tbody>\n",
       "</table>\n",
       "</div>"
      ],
      "text/plain": [
       "   emp_no  birth_date first_name last_name gender   hire_date\n",
       "0   10001  1953-09-02     Georgi   Facello      M  1986-06-26\n",
       "1   10002  1964-06-02    Bezalel    Simmel      F  1985-11-21\n",
       "2   10003  1959-12-03      Parto   Bamford      M  1986-08-28\n",
       "3   10004  1954-05-01  Chirstian   Koblick      M  1986-12-01\n",
       "4   10005  1955-01-21    Kyoichi  Maliniak      M  1989-09-12"
      ]
     },
     "execution_count": 14,
     "metadata": {},
     "output_type": "execute_result"
    }
   ],
   "source": [
    "employees.head()"
   ]
  },
  {
   "cell_type": "code",
   "execution_count": 15,
   "id": "bf7b918e",
   "metadata": {
    "scrolled": true
   },
   "outputs": [
    {
     "data": {
      "text/html": [
       "<div>\n",
       "<style scoped>\n",
       "    .dataframe tbody tr th:only-of-type {\n",
       "        vertical-align: middle;\n",
       "    }\n",
       "\n",
       "    .dataframe tbody tr th {\n",
       "        vertical-align: top;\n",
       "    }\n",
       "\n",
       "    .dataframe thead th {\n",
       "        text-align: right;\n",
       "    }\n",
       "</style>\n",
       "<table border=\"1\" class=\"dataframe\">\n",
       "  <thead>\n",
       "    <tr style=\"text-align: right;\">\n",
       "      <th></th>\n",
       "      <th>emp_no</th>\n",
       "      <th>birth_date</th>\n",
       "      <th>first_name</th>\n",
       "      <th>last_name</th>\n",
       "      <th>gender</th>\n",
       "      <th>hire_date</th>\n",
       "      <th>salary</th>\n",
       "      <th>from_date</th>\n",
       "      <th>to_date</th>\n",
       "    </tr>\n",
       "  </thead>\n",
       "  <tbody>\n",
       "    <tr>\n",
       "      <th>0</th>\n",
       "      <td>10001</td>\n",
       "      <td>1953-09-02</td>\n",
       "      <td>Georgi</td>\n",
       "      <td>Facello</td>\n",
       "      <td>M</td>\n",
       "      <td>1986-06-26</td>\n",
       "      <td>60117</td>\n",
       "      <td>1986-06-26</td>\n",
       "      <td>1987-06-26</td>\n",
       "    </tr>\n",
       "    <tr>\n",
       "      <th>1</th>\n",
       "      <td>10001</td>\n",
       "      <td>1953-09-02</td>\n",
       "      <td>Georgi</td>\n",
       "      <td>Facello</td>\n",
       "      <td>M</td>\n",
       "      <td>1986-06-26</td>\n",
       "      <td>62102</td>\n",
       "      <td>1987-06-26</td>\n",
       "      <td>1988-06-25</td>\n",
       "    </tr>\n",
       "    <tr>\n",
       "      <th>2</th>\n",
       "      <td>10001</td>\n",
       "      <td>1953-09-02</td>\n",
       "      <td>Georgi</td>\n",
       "      <td>Facello</td>\n",
       "      <td>M</td>\n",
       "      <td>1986-06-26</td>\n",
       "      <td>66074</td>\n",
       "      <td>1988-06-25</td>\n",
       "      <td>1989-06-25</td>\n",
       "    </tr>\n",
       "    <tr>\n",
       "      <th>3</th>\n",
       "      <td>10001</td>\n",
       "      <td>1953-09-02</td>\n",
       "      <td>Georgi</td>\n",
       "      <td>Facello</td>\n",
       "      <td>M</td>\n",
       "      <td>1986-06-26</td>\n",
       "      <td>66596</td>\n",
       "      <td>1989-06-25</td>\n",
       "      <td>1990-06-25</td>\n",
       "    </tr>\n",
       "    <tr>\n",
       "      <th>4</th>\n",
       "      <td>10001</td>\n",
       "      <td>1953-09-02</td>\n",
       "      <td>Georgi</td>\n",
       "      <td>Facello</td>\n",
       "      <td>M</td>\n",
       "      <td>1986-06-26</td>\n",
       "      <td>66961</td>\n",
       "      <td>1990-06-25</td>\n",
       "      <td>1991-06-25</td>\n",
       "    </tr>\n",
       "    <tr>\n",
       "      <th>...</th>\n",
       "      <td>...</td>\n",
       "      <td>...</td>\n",
       "      <td>...</td>\n",
       "      <td>...</td>\n",
       "      <td>...</td>\n",
       "      <td>...</td>\n",
       "      <td>...</td>\n",
       "      <td>...</td>\n",
       "      <td>...</td>\n",
       "    </tr>\n",
       "    <tr>\n",
       "      <th>2844042</th>\n",
       "      <td>499999</td>\n",
       "      <td>1958-05-01</td>\n",
       "      <td>Sachin</td>\n",
       "      <td>Tsukuda</td>\n",
       "      <td>M</td>\n",
       "      <td>1997-11-30</td>\n",
       "      <td>63707</td>\n",
       "      <td>1997-11-30</td>\n",
       "      <td>1998-11-30</td>\n",
       "    </tr>\n",
       "    <tr>\n",
       "      <th>2844043</th>\n",
       "      <td>499999</td>\n",
       "      <td>1958-05-01</td>\n",
       "      <td>Sachin</td>\n",
       "      <td>Tsukuda</td>\n",
       "      <td>M</td>\n",
       "      <td>1997-11-30</td>\n",
       "      <td>67043</td>\n",
       "      <td>1998-11-30</td>\n",
       "      <td>1999-11-30</td>\n",
       "    </tr>\n",
       "    <tr>\n",
       "      <th>2844044</th>\n",
       "      <td>499999</td>\n",
       "      <td>1958-05-01</td>\n",
       "      <td>Sachin</td>\n",
       "      <td>Tsukuda</td>\n",
       "      <td>M</td>\n",
       "      <td>1997-11-30</td>\n",
       "      <td>70745</td>\n",
       "      <td>1999-11-30</td>\n",
       "      <td>2000-11-29</td>\n",
       "    </tr>\n",
       "    <tr>\n",
       "      <th>2844045</th>\n",
       "      <td>499999</td>\n",
       "      <td>1958-05-01</td>\n",
       "      <td>Sachin</td>\n",
       "      <td>Tsukuda</td>\n",
       "      <td>M</td>\n",
       "      <td>1997-11-30</td>\n",
       "      <td>74327</td>\n",
       "      <td>2000-11-29</td>\n",
       "      <td>2001-11-29</td>\n",
       "    </tr>\n",
       "    <tr>\n",
       "      <th>2844046</th>\n",
       "      <td>499999</td>\n",
       "      <td>1958-05-01</td>\n",
       "      <td>Sachin</td>\n",
       "      <td>Tsukuda</td>\n",
       "      <td>M</td>\n",
       "      <td>1997-11-30</td>\n",
       "      <td>77303</td>\n",
       "      <td>2001-11-29</td>\n",
       "      <td>9999-01-01</td>\n",
       "    </tr>\n",
       "  </tbody>\n",
       "</table>\n",
       "<p>2844047 rows × 9 columns</p>\n",
       "</div>"
      ],
      "text/plain": [
       "         emp_no  birth_date first_name last_name gender   hire_date  salary  \\\n",
       "0         10001  1953-09-02     Georgi   Facello      M  1986-06-26   60117   \n",
       "1         10001  1953-09-02     Georgi   Facello      M  1986-06-26   62102   \n",
       "2         10001  1953-09-02     Georgi   Facello      M  1986-06-26   66074   \n",
       "3         10001  1953-09-02     Georgi   Facello      M  1986-06-26   66596   \n",
       "4         10001  1953-09-02     Georgi   Facello      M  1986-06-26   66961   \n",
       "...         ...         ...        ...       ...    ...         ...     ...   \n",
       "2844042  499999  1958-05-01     Sachin   Tsukuda      M  1997-11-30   63707   \n",
       "2844043  499999  1958-05-01     Sachin   Tsukuda      M  1997-11-30   67043   \n",
       "2844044  499999  1958-05-01     Sachin   Tsukuda      M  1997-11-30   70745   \n",
       "2844045  499999  1958-05-01     Sachin   Tsukuda      M  1997-11-30   74327   \n",
       "2844046  499999  1958-05-01     Sachin   Tsukuda      M  1997-11-30   77303   \n",
       "\n",
       "          from_date     to_date  \n",
       "0        1986-06-26  1987-06-26  \n",
       "1        1987-06-26  1988-06-25  \n",
       "2        1988-06-25  1989-06-25  \n",
       "3        1989-06-25  1990-06-25  \n",
       "4        1990-06-25  1991-06-25  \n",
       "...             ...         ...  \n",
       "2844042  1997-11-30  1998-11-30  \n",
       "2844043  1998-11-30  1999-11-30  \n",
       "2844044  1999-11-30  2000-11-29  \n",
       "2844045  2000-11-29  2001-11-29  \n",
       "2844046  2001-11-29  9999-01-01  \n",
       "\n",
       "[2844047 rows x 9 columns]"
      ]
     },
     "execution_count": 15,
     "metadata": {},
     "output_type": "execute_result"
    }
   ],
   "source": [
    "employees = pd.merge(employees, salaries, on='emp_no')\n",
    "employees"
   ]
  },
  {
   "cell_type": "code",
   "execution_count": 16,
   "id": "e3de4938",
   "metadata": {},
   "outputs": [],
   "source": [
    "employees['to_date'] = employees['to_date'].astype(str)\n",
    "\n",
    "employees = employees[~employees['to_date'].str.contains('9999')]"
   ]
  },
  {
   "cell_type": "code",
   "execution_count": 17,
   "id": "e6d48a95",
   "metadata": {
    "scrolled": true
   },
   "outputs": [
    {
     "data": {
      "text/html": [
       "<div>\n",
       "<style scoped>\n",
       "    .dataframe tbody tr th:only-of-type {\n",
       "        vertical-align: middle;\n",
       "    }\n",
       "\n",
       "    .dataframe tbody tr th {\n",
       "        vertical-align: top;\n",
       "    }\n",
       "\n",
       "    .dataframe thead th {\n",
       "        text-align: right;\n",
       "    }\n",
       "</style>\n",
       "<table border=\"1\" class=\"dataframe\">\n",
       "  <thead>\n",
       "    <tr style=\"text-align: right;\">\n",
       "      <th></th>\n",
       "      <th>emp_no</th>\n",
       "      <th>birth_date</th>\n",
       "      <th>first_name</th>\n",
       "      <th>last_name</th>\n",
       "      <th>gender</th>\n",
       "      <th>hire_date</th>\n",
       "      <th>salary</th>\n",
       "      <th>from_date</th>\n",
       "      <th>to_date</th>\n",
       "    </tr>\n",
       "  </thead>\n",
       "  <tbody>\n",
       "    <tr>\n",
       "      <th>0</th>\n",
       "      <td>10001</td>\n",
       "      <td>1953-09-02</td>\n",
       "      <td>Georgi</td>\n",
       "      <td>Facello</td>\n",
       "      <td>M</td>\n",
       "      <td>1986-06-26</td>\n",
       "      <td>60117</td>\n",
       "      <td>1986-06-26</td>\n",
       "      <td>1987-06-26</td>\n",
       "    </tr>\n",
       "    <tr>\n",
       "      <th>1</th>\n",
       "      <td>10001</td>\n",
       "      <td>1953-09-02</td>\n",
       "      <td>Georgi</td>\n",
       "      <td>Facello</td>\n",
       "      <td>M</td>\n",
       "      <td>1986-06-26</td>\n",
       "      <td>62102</td>\n",
       "      <td>1987-06-26</td>\n",
       "      <td>1988-06-25</td>\n",
       "    </tr>\n",
       "    <tr>\n",
       "      <th>2</th>\n",
       "      <td>10001</td>\n",
       "      <td>1953-09-02</td>\n",
       "      <td>Georgi</td>\n",
       "      <td>Facello</td>\n",
       "      <td>M</td>\n",
       "      <td>1986-06-26</td>\n",
       "      <td>66074</td>\n",
       "      <td>1988-06-25</td>\n",
       "      <td>1989-06-25</td>\n",
       "    </tr>\n",
       "    <tr>\n",
       "      <th>3</th>\n",
       "      <td>10001</td>\n",
       "      <td>1953-09-02</td>\n",
       "      <td>Georgi</td>\n",
       "      <td>Facello</td>\n",
       "      <td>M</td>\n",
       "      <td>1986-06-26</td>\n",
       "      <td>66596</td>\n",
       "      <td>1989-06-25</td>\n",
       "      <td>1990-06-25</td>\n",
       "    </tr>\n",
       "    <tr>\n",
       "      <th>4</th>\n",
       "      <td>10001</td>\n",
       "      <td>1953-09-02</td>\n",
       "      <td>Georgi</td>\n",
       "      <td>Facello</td>\n",
       "      <td>M</td>\n",
       "      <td>1986-06-26</td>\n",
       "      <td>66961</td>\n",
       "      <td>1990-06-25</td>\n",
       "      <td>1991-06-25</td>\n",
       "    </tr>\n",
       "    <tr>\n",
       "      <th>...</th>\n",
       "      <td>...</td>\n",
       "      <td>...</td>\n",
       "      <td>...</td>\n",
       "      <td>...</td>\n",
       "      <td>...</td>\n",
       "      <td>...</td>\n",
       "      <td>...</td>\n",
       "      <td>...</td>\n",
       "      <td>...</td>\n",
       "    </tr>\n",
       "    <tr>\n",
       "      <th>2844040</th>\n",
       "      <td>499998</td>\n",
       "      <td>1956-09-05</td>\n",
       "      <td>Patricia</td>\n",
       "      <td>Breugel</td>\n",
       "      <td>M</td>\n",
       "      <td>1993-10-13</td>\n",
       "      <td>51182</td>\n",
       "      <td>2000-12-25</td>\n",
       "      <td>2001-12-25</td>\n",
       "    </tr>\n",
       "    <tr>\n",
       "      <th>2844042</th>\n",
       "      <td>499999</td>\n",
       "      <td>1958-05-01</td>\n",
       "      <td>Sachin</td>\n",
       "      <td>Tsukuda</td>\n",
       "      <td>M</td>\n",
       "      <td>1997-11-30</td>\n",
       "      <td>63707</td>\n",
       "      <td>1997-11-30</td>\n",
       "      <td>1998-11-30</td>\n",
       "    </tr>\n",
       "    <tr>\n",
       "      <th>2844043</th>\n",
       "      <td>499999</td>\n",
       "      <td>1958-05-01</td>\n",
       "      <td>Sachin</td>\n",
       "      <td>Tsukuda</td>\n",
       "      <td>M</td>\n",
       "      <td>1997-11-30</td>\n",
       "      <td>67043</td>\n",
       "      <td>1998-11-30</td>\n",
       "      <td>1999-11-30</td>\n",
       "    </tr>\n",
       "    <tr>\n",
       "      <th>2844044</th>\n",
       "      <td>499999</td>\n",
       "      <td>1958-05-01</td>\n",
       "      <td>Sachin</td>\n",
       "      <td>Tsukuda</td>\n",
       "      <td>M</td>\n",
       "      <td>1997-11-30</td>\n",
       "      <td>70745</td>\n",
       "      <td>1999-11-30</td>\n",
       "      <td>2000-11-29</td>\n",
       "    </tr>\n",
       "    <tr>\n",
       "      <th>2844045</th>\n",
       "      <td>499999</td>\n",
       "      <td>1958-05-01</td>\n",
       "      <td>Sachin</td>\n",
       "      <td>Tsukuda</td>\n",
       "      <td>M</td>\n",
       "      <td>1997-11-30</td>\n",
       "      <td>74327</td>\n",
       "      <td>2000-11-29</td>\n",
       "      <td>2001-11-29</td>\n",
       "    </tr>\n",
       "  </tbody>\n",
       "</table>\n",
       "<p>2603923 rows × 9 columns</p>\n",
       "</div>"
      ],
      "text/plain": [
       "         emp_no  birth_date first_name last_name gender   hire_date  salary  \\\n",
       "0         10001  1953-09-02     Georgi   Facello      M  1986-06-26   60117   \n",
       "1         10001  1953-09-02     Georgi   Facello      M  1986-06-26   62102   \n",
       "2         10001  1953-09-02     Georgi   Facello      M  1986-06-26   66074   \n",
       "3         10001  1953-09-02     Georgi   Facello      M  1986-06-26   66596   \n",
       "4         10001  1953-09-02     Georgi   Facello      M  1986-06-26   66961   \n",
       "...         ...         ...        ...       ...    ...         ...     ...   \n",
       "2844040  499998  1956-09-05   Patricia   Breugel      M  1993-10-13   51182   \n",
       "2844042  499999  1958-05-01     Sachin   Tsukuda      M  1997-11-30   63707   \n",
       "2844043  499999  1958-05-01     Sachin   Tsukuda      M  1997-11-30   67043   \n",
       "2844044  499999  1958-05-01     Sachin   Tsukuda      M  1997-11-30   70745   \n",
       "2844045  499999  1958-05-01     Sachin   Tsukuda      M  1997-11-30   74327   \n",
       "\n",
       "          from_date     to_date  \n",
       "0        1986-06-26  1987-06-26  \n",
       "1        1987-06-26  1988-06-25  \n",
       "2        1988-06-25  1989-06-25  \n",
       "3        1989-06-25  1990-06-25  \n",
       "4        1990-06-25  1991-06-25  \n",
       "...             ...         ...  \n",
       "2844040  2000-12-25  2001-12-25  \n",
       "2844042  1997-11-30  1998-11-30  \n",
       "2844043  1998-11-30  1999-11-30  \n",
       "2844044  1999-11-30  2000-11-29  \n",
       "2844045  2000-11-29  2001-11-29  \n",
       "\n",
       "[2603923 rows x 9 columns]"
      ]
     },
     "execution_count": 17,
     "metadata": {},
     "output_type": "execute_result"
    }
   ],
   "source": [
    "employees"
   ]
  },
  {
   "cell_type": "code",
   "execution_count": 27,
   "id": "f88b552c",
   "metadata": {
    "scrolled": true
   },
   "outputs": [
    {
     "ename": "NameError",
     "evalue": "name 'timestamp' is not defined",
     "output_type": "error",
     "traceback": [
      "\u001b[0;31m---------------------------------------------------------------------------\u001b[0m",
      "\u001b[0;31mNameError\u001b[0m                                 Traceback (most recent call last)",
      "Cell \u001b[0;32mIn[27], line 1\u001b[0m\n\u001b[0;32m----> 1\u001b[0m employees[\u001b[38;5;124m'\u001b[39m\u001b[38;5;124mto_date\u001b[39m\u001b[38;5;124m'\u001b[39m] \u001b[38;5;241m=\u001b[39m employees[\u001b[38;5;124m'\u001b[39m\u001b[38;5;124mto_date\u001b[39m\u001b[38;5;124m'\u001b[39m]\u001b[38;5;241m.\u001b[39mastype(\u001b[43mtimestamp\u001b[49m)\n\u001b[1;32m      2\u001b[0m employees[\u001b[38;5;124m'\u001b[39m\u001b[38;5;124mtenure\u001b[39m\u001b[38;5;124m'\u001b[39m] \u001b[38;5;241m=\u001b[39m employees[\u001b[38;5;124m'\u001b[39m\u001b[38;5;124mto_date\u001b[39m\u001b[38;5;124m'\u001b[39m] \u001b[38;5;241m-\u001b[39m employees[\u001b[38;5;124m'\u001b[39m\u001b[38;5;124mhire_date\u001b[39m\u001b[38;5;124m'\u001b[39m]\n\u001b[1;32m      3\u001b[0m employees\n",
      "\u001b[0;31mNameError\u001b[0m: name 'timestamp' is not defined"
     ]
    }
   ],
   "source": [
    "employees['to_date'] = employees['to_date'].astype(timestamp)\n",
    "employees['tenure'] = employees['to_date'] - employees['hire_date']\n",
    "employees\n",
    "\n"
   ]
  },
  {
   "cell_type": "code",
   "execution_count": null,
   "id": "1d839fa9",
   "metadata": {},
   "outputs": [],
   "source": [
    "χ"
   ]
  },
  {
   "cell_type": "code",
   "execution_count": 23,
   "id": "cd01b19a",
   "metadata": {},
   "outputs": [
    {
     "data": {
      "text/plain": [
       "emp_no\n",
       "10001     1986-06-26\n",
       "10002     1996-08-03\n",
       "10003     1995-12-03\n",
       "10004     1986-12-01\n",
       "10005     1989-09-12\n",
       "             ...    \n",
       "499995    1997-06-02\n",
       "499996    1996-05-13\n",
       "499997    1987-08-30\n",
       "499998    1993-12-27\n",
       "499999    1997-11-30\n",
       "Name: from_date, Length: 300024, dtype: object"
      ]
     },
     "execution_count": 23,
     "metadata": {},
     "output_type": "execute_result"
    }
   ],
   "source": [
    "test = employees.groupby(employees.emp_no).from_date.min()\n",
    "test"
   ]
  },
  {
   "cell_type": "markdown",
   "id": "018ed6ba",
   "metadata": {},
   "source": [
    "Is there a relationship between how long an employee has been with the company and their salary?"
   ]
  },
  {
   "cell_type": "markdown",
   "id": "7ab620cc",
   "metadata": {},
   "source": [
    "$H_0$: There is not a meaningful relationship between an employee's tenure and their salary\n",
    "\n",
    "$H_A$: There is a meaningful relationship between an employee's tenure and their salary"
   ]
  },
  {
   "cell_type": "code",
   "execution_count": null,
   "id": "4b65509e",
   "metadata": {},
   "outputs": [],
   "source": []
  },
  {
   "cell_type": "markdown",
   "id": "7dbe6977",
   "metadata": {},
   "source": [
    "Is there a relationship between how long an employee has been with the company and the number of titles they have had?"
   ]
  },
  {
   "cell_type": "code",
   "execution_count": null,
   "id": "42819bea",
   "metadata": {},
   "outputs": [],
   "source": []
  },
  {
   "cell_type": "markdown",
   "id": "b6d64174",
   "metadata": {},
   "source": [
    "Use the sleepstudy data."
   ]
  },
  {
   "cell_type": "code",
   "execution_count": null,
   "id": "59843f80",
   "metadata": {},
   "outputs": [],
   "source": [
    "from pydataset import data\n",
    "sleep = data('sleepstudy')\n",
    "sleep"
   ]
  },
  {
   "cell_type": "markdown",
   "id": "f8dc4b82",
   "metadata": {},
   "source": [
    "Is there a relationship between days and reaction time?"
   ]
  },
  {
   "cell_type": "markdown",
   "id": "e4067a5f",
   "metadata": {},
   "source": []
  },
  {
   "cell_type": "code",
   "execution_count": 37,
   "id": "31e3e2aa",
   "metadata": {
    "scrolled": true
   },
   "outputs": [
    {
     "data": {
      "text/html": [
       "<div>\n",
       "<style scoped>\n",
       "    .dataframe tbody tr th:only-of-type {\n",
       "        vertical-align: middle;\n",
       "    }\n",
       "\n",
       "    .dataframe tbody tr th {\n",
       "        vertical-align: top;\n",
       "    }\n",
       "\n",
       "    .dataframe thead th {\n",
       "        text-align: right;\n",
       "    }\n",
       "</style>\n",
       "<table border=\"1\" class=\"dataframe\">\n",
       "  <thead>\n",
       "    <tr style=\"text-align: right;\">\n",
       "      <th></th>\n",
       "      <th>manufacturer</th>\n",
       "      <th>model</th>\n",
       "      <th>displ</th>\n",
       "      <th>year</th>\n",
       "      <th>cyl</th>\n",
       "      <th>trans</th>\n",
       "      <th>drv</th>\n",
       "      <th>cty</th>\n",
       "      <th>hwy</th>\n",
       "      <th>fl</th>\n",
       "      <th>class</th>\n",
       "    </tr>\n",
       "  </thead>\n",
       "  <tbody>\n",
       "    <tr>\n",
       "      <th>1</th>\n",
       "      <td>audi</td>\n",
       "      <td>a4</td>\n",
       "      <td>1.8</td>\n",
       "      <td>1999</td>\n",
       "      <td>4</td>\n",
       "      <td>auto(l5)</td>\n",
       "      <td>f</td>\n",
       "      <td>18</td>\n",
       "      <td>29</td>\n",
       "      <td>p</td>\n",
       "      <td>compact</td>\n",
       "    </tr>\n",
       "    <tr>\n",
       "      <th>2</th>\n",
       "      <td>audi</td>\n",
       "      <td>a4</td>\n",
       "      <td>1.8</td>\n",
       "      <td>1999</td>\n",
       "      <td>4</td>\n",
       "      <td>manual(m5)</td>\n",
       "      <td>f</td>\n",
       "      <td>21</td>\n",
       "      <td>29</td>\n",
       "      <td>p</td>\n",
       "      <td>compact</td>\n",
       "    </tr>\n",
       "    <tr>\n",
       "      <th>3</th>\n",
       "      <td>audi</td>\n",
       "      <td>a4</td>\n",
       "      <td>2.0</td>\n",
       "      <td>2008</td>\n",
       "      <td>4</td>\n",
       "      <td>manual(m6)</td>\n",
       "      <td>f</td>\n",
       "      <td>20</td>\n",
       "      <td>31</td>\n",
       "      <td>p</td>\n",
       "      <td>compact</td>\n",
       "    </tr>\n",
       "    <tr>\n",
       "      <th>4</th>\n",
       "      <td>audi</td>\n",
       "      <td>a4</td>\n",
       "      <td>2.0</td>\n",
       "      <td>2008</td>\n",
       "      <td>4</td>\n",
       "      <td>auto(av)</td>\n",
       "      <td>f</td>\n",
       "      <td>21</td>\n",
       "      <td>30</td>\n",
       "      <td>p</td>\n",
       "      <td>compact</td>\n",
       "    </tr>\n",
       "    <tr>\n",
       "      <th>5</th>\n",
       "      <td>audi</td>\n",
       "      <td>a4</td>\n",
       "      <td>2.8</td>\n",
       "      <td>1999</td>\n",
       "      <td>6</td>\n",
       "      <td>auto(l5)</td>\n",
       "      <td>f</td>\n",
       "      <td>16</td>\n",
       "      <td>26</td>\n",
       "      <td>p</td>\n",
       "      <td>compact</td>\n",
       "    </tr>\n",
       "  </tbody>\n",
       "</table>\n",
       "</div>"
      ],
      "text/plain": [
       "  manufacturer model  displ  year  cyl       trans drv  cty  hwy fl    class\n",
       "1         audi    a4    1.8  1999    4    auto(l5)   f   18   29  p  compact\n",
       "2         audi    a4    1.8  1999    4  manual(m5)   f   21   29  p  compact\n",
       "3         audi    a4    2.0  2008    4  manual(m6)   f   20   31  p  compact\n",
       "4         audi    a4    2.0  2008    4    auto(av)   f   21   30  p  compact\n",
       "5         audi    a4    2.8  1999    6    auto(l5)   f   16   26  p  compact"
      ]
     },
     "execution_count": 37,
     "metadata": {},
     "output_type": "execute_result"
    }
   ],
   "source": [
    "mpg.head()"
   ]
  },
  {
   "cell_type": "code",
   "execution_count": 38,
   "id": "e37f23f5",
   "metadata": {},
   "outputs": [
    {
     "data": {
      "text/plain": [
       "str"
      ]
     },
     "execution_count": 38,
     "metadata": {},
     "output_type": "execute_result"
    }
   ],
   "source": [
    "type(mpg.manufacturer[1])"
   ]
  },
  {
   "cell_type": "code",
   "execution_count": null,
   "id": "9d9beed3",
   "metadata": {},
   "outputs": [],
   "source": [
    "def which_stat_test(colone, coltwo)\n",
    "    if type(colone[1]) == 'str' and type(coltwo[1]) == 'str':\n",
    "        "
   ]
  },
  {
   "cell_type": "code",
   "execution_count": 44,
   "id": "abca4d39",
   "metadata": {},
   "outputs": [],
   "source": [
    "import numpy as np\n",
    "import matplotlib.pyplot as plt"
   ]
  },
  {
   "cell_type": "markdown",
   "id": "b24060f9",
   "metadata": {},
   "source": [
    "A manufacturing company claims that the average lifespan of their light bulbs is at least 10,000 hours. You randomly select 50 light bulbs and find that their average lifespan is 9,800 hours with a standard deviation of 200 hours. Test the company's claim using a significance level of 0.05.\n"
   ]
  },
  {
   "cell_type": "code",
   "execution_count": 47,
   "id": "8519a8df",
   "metadata": {},
   "outputs": [],
   "source": [
    "np.random.seed(123)\n",
    "\n",
    "sample = np.random.normal(9800, 200, 50)"
   ]
  },
  {
   "cell_type": "code",
   "execution_count": 50,
   "id": "e1d7026a",
   "metadata": {},
   "outputs": [
    {
     "data": {
      "text/plain": [
       "(array([ 2.,  1.,  4.,  6., 10.,  7.,  6.,  7.,  3.,  4.]),\n",
       " array([ 9240.28217891,  9344.10126634,  9447.92035376,  9551.73944119,\n",
       "         9655.55852862,  9759.37761605,  9863.19670348,  9967.0157909 ,\n",
       "        10070.83487833, 10174.65396576, 10278.47305319]),\n",
       " <BarContainer object of 10 artists>)"
      ]
     },
     "execution_count": 50,
     "metadata": {},
     "output_type": "execute_result"
    },
    {
     "data": {
      "image/png": "[encoded data removed]",
      "text/plain": [
       "<Figure size 640x480 with 1 Axes>"
      ]
     },
     "metadata": {},
     "output_type": "display_data"
    }
   ],
   "source": [
    "plt.hist(sample)"
   ]
  },
  {
   "cell_type": "code",
   "execution_count": 53,
   "id": "dee25574",
   "metadata": {},
   "outputs": [
    {
     "data": {
      "text/plain": [
       "(-5.806125967797772, 4.649268091807646e-07)"
      ]
     },
     "execution_count": 53,
     "metadata": {},
     "output_type": "execute_result"
    }
   ],
   "source": [
    "t, p = stats.ttest_1samp(sample, 10000)\n",
    "t, p"
   ]
  },
  {
   "cell_type": "code",
   "execution_count": 55,
   "id": "3e6dd507",
   "metadata": {},
   "outputs": [
    {
     "name": "stdout",
     "output_type": "stream",
     "text": [
      "Reject the null hypothesis. There is evidence to support the claim that the average lifespan is less than 10000 hours.\n"
     ]
    }
   ],
   "source": [
    "alpha = 0.05\n",
    "\n",
    "if p < alpha:\n",
    "    print(\"Reject the null hypothesis. There is evidence to support the claim that the average lifespan is less than 10000 hours.\")\n",
    "else:\n",
    "    print(\"Fail to reject the null hypothesis. There is not enough evidence to support the claim that the average lifespan is less than 10000 hours.\")"
   ]
  },
  {
   "cell_type": "markdown",
   "id": "50259eda",
   "metadata": {},
   "source": [
    "A university wants to determine if there is a difference in the average test scores of students who attended a tutoring program versus those who did not. They randomly select two groups of students: Group A (tutoring program attendees) and Group B (non-attendees). The test scores of the two groups are as follows:\n",
    "Group A: [85, 89, 90, 91, 93]\n",
    "Group B: [78, 82, 88, 90, 92]"
   ]
  },
  {
   "cell_type": "code",
   "execution_count": 60,
   "id": "f51b1e07",
   "metadata": {},
   "outputs": [],
   "source": [
    "alpha = .01\n",
    "\n",
    "group_a = [85, 89, 90, 91, 93]\n",
    "group_b = [78, 82, 88, 90, 92]"
   ]
  },
  {
   "cell_type": "code",
   "execution_count": 63,
   "id": "fdd53351",
   "metadata": {},
   "outputs": [
    {
     "data": {
      "text/plain": [
       "(1.5319148936170213, 0.25091713765155527)"
      ]
     },
     "execution_count": 63,
     "metadata": {},
     "output_type": "execute_result"
    }
   ],
   "source": [
    "s, p = stats.levene(group_a, group_b)\n",
    "\n",
    "#t, p = stats.ttest_ind(group_a, group_b)\n",
    "s, p"
   ]
  },
  {
   "cell_type": "code",
   "execution_count": 59,
   "id": "42830b56",
   "metadata": {},
   "outputs": [
    {
     "name": "stdout",
     "output_type": "stream",
     "text": [
      "Fail to reject the null hypothesis. There is not enough evidence to support the claim that the average lifespan is less than 10000 hours.\n"
     ]
    }
   ],
   "source": [
    "if p < alpha:\n",
    "    print(\"Reject the null hypothesis.\")\n",
    "else:\n",
    "    print(\"Fail to reject the null hypothesis.\")"
   ]
  },
  {
   "cell_type": "markdown",
   "id": "ab8db3cc",
   "metadata": {},
   "source": [
    "Research Question: Is there a relationship between income and education level among working professionals? Analyze the data collected from a survey of 500 working professionals to determine if there is a significant correlation between their income and education level.\n",
    "\n",
    "Income (in thousands of dollars): [40, 50, 60, 70, 80, 90, 100, 110, 120, 130, 140, 150, 160, 170, 180, 190, 200, 210, 220, 230, 240, 250, 260, 270, 280, 290, 300, 310, 320, 330, 340, 350, 360, 370, 380, 390, 400, 410, 420, 430, 440, 450, 460, 470, 480, 490, 500]\n",
    "Education Level (in years): [10, 12, 11, 14, 16, 12, 14, 13, 15, 16, 14, 13, 12, 15, 17, 16, 18, 14, 16, 15, 13, 12, 11, 13, 14, 15, 16, 17, 15, 14, 13, 12, 18, 16, 15, 14, 13, 12, 11, 16, 17, 18, 15, 14, 13, 12, 11, 10]"
   ]
  },
  {
   "cell_type": "code",
   "execution_count": 69,
   "id": "2e0968ec",
   "metadata": {},
   "outputs": [],
   "source": [
    "import seaborn as sns\n",
    "import pandas as pd"
   ]
  },
  {
   "cell_type": "code",
   "execution_count": 74,
   "id": "8d79420f",
   "metadata": {},
   "outputs": [
    {
     "data": {
      "text/plain": [
       "(10.0, 100.0)"
      ]
     },
     "execution_count": 74,
     "metadata": {},
     "output_type": "execute_result"
    },
    {
     "data": {
      "image/png": "[encoded data removed]",
      "text/plain": [
       "<Figure size 558.875x500 with 1 Axes>"
      ]
     },
     "metadata": {},
     "output_type": "display_data"
    }
   ],
   "source": [
    "x = [40, 50, 60, 70, 80, 90, 100, 110, 120, 130, 140, 150, 160, 170, 180, 190, 200, 210, 220, 230, 240, 250, 260, 270, 280, 290, 300, 310, 320, 330, 340, 350, 360, 370, 380, 390, 400, 410, 420, 430, 440, 450, 460, 470, 480, 490, 500, 510]\n",
    "\n",
    "y = [10, 12, 11, 14, 16, 12, 14, 13, 15, 16, 14, 13, 12, 15, 17, 16, 18, 14, 16, 15, 13, 12, 11, 13, 14, 15, 16, 17, 15, 14, 13, 12, 18, 16, 15, 14, 13, 12, 11, 16, 17, 18, 15, 14, 13, 12, 11, 10]\n",
    "\n",
    "x = pd.Series(x)\n",
    "y = pd.Series(y)\n",
    "df = pd.DataFrame(y, x)\n",
    "\n",
    "sns.relplot(df)\n",
    "plt.xlim(10, 100)"
   ]
  },
  {
   "cell_type": "code",
   "execution_count": 75,
   "id": "def8cf73",
   "metadata": {},
   "outputs": [],
   "source": [
    "from pydataset import data"
   ]
  },
  {
   "cell_type": "code",
   "execution_count": 76,
   "id": "75245f8c",
   "metadata": {
    "scrolled": true
   },
   "outputs": [
    {
     "data": {
      "text/html": [
       "<div>\n",
       "<style scoped>\n",
       "    .dataframe tbody tr th:only-of-type {\n",
       "        vertical-align: middle;\n",
       "    }\n",
       "\n",
       "    .dataframe tbody tr th {\n",
       "        vertical-align: top;\n",
       "    }\n",
       "\n",
       "    .dataframe thead th {\n",
       "        text-align: right;\n",
       "    }\n",
       "</style>\n",
       "<table border=\"1\" class=\"dataframe\">\n",
       "  <thead>\n",
       "    <tr style=\"text-align: right;\">\n",
       "      <th></th>\n",
       "      <th>replicate</th>\n",
       "      <th>recipe</th>\n",
       "      <th>temperature</th>\n",
       "      <th>angle</th>\n",
       "      <th>temp</th>\n",
       "    </tr>\n",
       "  </thead>\n",
       "  <tbody>\n",
       "    <tr>\n",
       "      <th>1</th>\n",
       "      <td>1</td>\n",
       "      <td>A</td>\n",
       "      <td>175</td>\n",
       "      <td>42</td>\n",
       "      <td>175</td>\n",
       "    </tr>\n",
       "    <tr>\n",
       "      <th>2</th>\n",
       "      <td>1</td>\n",
       "      <td>A</td>\n",
       "      <td>185</td>\n",
       "      <td>46</td>\n",
       "      <td>185</td>\n",
       "    </tr>\n",
       "    <tr>\n",
       "      <th>3</th>\n",
       "      <td>1</td>\n",
       "      <td>A</td>\n",
       "      <td>195</td>\n",
       "      <td>47</td>\n",
       "      <td>195</td>\n",
       "    </tr>\n",
       "    <tr>\n",
       "      <th>4</th>\n",
       "      <td>1</td>\n",
       "      <td>A</td>\n",
       "      <td>205</td>\n",
       "      <td>39</td>\n",
       "      <td>205</td>\n",
       "    </tr>\n",
       "    <tr>\n",
       "      <th>5</th>\n",
       "      <td>1</td>\n",
       "      <td>A</td>\n",
       "      <td>215</td>\n",
       "      <td>53</td>\n",
       "      <td>215</td>\n",
       "    </tr>\n",
       "    <tr>\n",
       "      <th>...</th>\n",
       "      <td>...</td>\n",
       "      <td>...</td>\n",
       "      <td>...</td>\n",
       "      <td>...</td>\n",
       "      <td>...</td>\n",
       "    </tr>\n",
       "    <tr>\n",
       "      <th>266</th>\n",
       "      <td>15</td>\n",
       "      <td>C</td>\n",
       "      <td>185</td>\n",
       "      <td>28</td>\n",
       "      <td>185</td>\n",
       "    </tr>\n",
       "    <tr>\n",
       "      <th>267</th>\n",
       "      <td>15</td>\n",
       "      <td>C</td>\n",
       "      <td>195</td>\n",
       "      <td>25</td>\n",
       "      <td>195</td>\n",
       "    </tr>\n",
       "    <tr>\n",
       "      <th>268</th>\n",
       "      <td>15</td>\n",
       "      <td>C</td>\n",
       "      <td>205</td>\n",
       "      <td>25</td>\n",
       "      <td>205</td>\n",
       "    </tr>\n",
       "    <tr>\n",
       "      <th>269</th>\n",
       "      <td>15</td>\n",
       "      <td>C</td>\n",
       "      <td>215</td>\n",
       "      <td>31</td>\n",
       "      <td>215</td>\n",
       "    </tr>\n",
       "    <tr>\n",
       "      <th>270</th>\n",
       "      <td>15</td>\n",
       "      <td>C</td>\n",
       "      <td>225</td>\n",
       "      <td>25</td>\n",
       "      <td>225</td>\n",
       "    </tr>\n",
       "  </tbody>\n",
       "</table>\n",
       "<p>270 rows × 5 columns</p>\n",
       "</div>"
      ],
      "text/plain": [
       "     replicate recipe  temperature  angle  temp\n",
       "1            1      A          175     42   175\n",
       "2            1      A          185     46   185\n",
       "3            1      A          195     47   195\n",
       "4            1      A          205     39   205\n",
       "5            1      A          215     53   215\n",
       "..         ...    ...          ...    ...   ...\n",
       "266         15      C          185     28   185\n",
       "267         15      C          195     25   195\n",
       "268         15      C          205     25   205\n",
       "269         15      C          215     31   215\n",
       "270         15      C          225     25   225\n",
       "\n",
       "[270 rows x 5 columns]"
      ]
     },
     "execution_count": 76,
     "metadata": {},
     "output_type": "execute_result"
    }
   ],
   "source": [
    "cake = data('cake')\n",
    "cake"
   ]
  },
  {
   "cell_type": "code",
   "execution_count": 77,
   "id": "294e630e",
   "metadata": {},
   "outputs": [
    {
     "data": {
      "text/plain": [
       "array(['A', 'B', 'C'], dtype=object)"
      ]
     },
     "execution_count": 77,
     "metadata": {},
     "output_type": "execute_result"
    }
   ],
   "source": [
    "cake.recipe.unique()"
   ]
  },
  {
   "cell_type": "code",
   "execution_count": 78,
   "id": "b6a054e5",
   "metadata": {},
   "outputs": [
    {
     "data": {
      "text/plain": [
       "array([ 1,  2,  3,  4,  5,  6,  7,  8,  9, 10, 11, 12, 13, 14, 15])"
      ]
     },
     "execution_count": 78,
     "metadata": {},
     "output_type": "execute_result"
    }
   ],
   "source": [
    "cake.replicate.unique()"
   ]
  },
  {
   "cell_type": "code",
   "execution_count": 79,
   "id": "ceedefd1",
   "metadata": {
    "scrolled": true
   },
   "outputs": [
    {
     "data": {
      "text/plain": [
       "<seaborn.axisgrid.FacetGrid at 0x2ad73b280>"
      ]
     },
     "execution_count": 79,
     "metadata": {},
     "output_type": "execute_result"
    },
    {
     "data": {
      "image/png": "[encoded data removed]",
      "text/plain": [
       "<Figure size 637.5x500 with 1 Axes>"
      ]
     },
     "metadata": {},
     "output_type": "display_data"
    }
   ],
   "source": [
    "sns.relplot(cake)"
   ]
  },
  {
   "cell_type": "code",
   "execution_count": 81,
   "id": "3f2ee755",
   "metadata": {},
   "outputs": [],
   "source": [
    "observed = pd.crosstab(cake.replicate, cake.recipe)"
   ]
  },
  {
   "cell_type": "code",
   "execution_count": 82,
   "id": "ebca3d27",
   "metadata": {},
   "outputs": [
    {
     "data": {
      "text/plain": [
       "(0.0, 1.0)"
      ]
     },
     "execution_count": 82,
     "metadata": {},
     "output_type": "execute_result"
    }
   ],
   "source": [
    "chi, p, dof, expected = stats.chi2_contingency(observed)\n",
    "chi, p"
   ]
  },
  {
   "cell_type": "code",
   "execution_count": 85,
   "id": "81a12c2e",
   "metadata": {},
   "outputs": [
    {
     "data": {
      "text/plain": [
       "bool"
      ]
     },
     "execution_count": 85,
     "metadata": {},
     "output_type": "execute_result"
    }
   ],
   "source": [
    "type(True)"
   ]
  },
  {
   "cell_type": "code",
   "execution_count": 86,
   "id": "ebdd8da5",
   "metadata": {
    "scrolled": true
   },
   "outputs": [
    {
     "ename": "SyntaxError",
     "evalue": "invalid syntax (2226860387.py, line 8)",
     "output_type": "error",
     "traceback": [
      "\u001b[0;36m  Cell \u001b[0;32mIn[86], line 8\u001b[0;36m\u001b[0m\n\u001b[0;31m    if type(col_one[1]) == and type(col_two):\u001b[0m\n\u001b[0m                           ^\u001b[0m\n\u001b[0;31mSyntaxError\u001b[0m\u001b[0;31m:\u001b[0m invalid syntax\n"
     ]
    }
   ],
   "source": [
    "def which_stats_test(col_one, col_two):\n",
    "    if (type(col_one[1]) or (col_one.unique() == [0, 1]) or (col_one.unique() == [1, 0]) == 'str') and (type(col_two[1]) == 'str') or (type(col_two[1]) == 'int') or (type(col_two[1])):\n",
    "        print('Both columns contain categorical data: use the Chi-squared test.')\n",
    "        \n",
    "    if (type(col_one[1]) == 'int') or (type(col_one[1]) == 'float') and (type(col_two[1]) == 'int') or (type(col_two[1])):\n",
    "        print(\"Both columns contain numeric data: use Pearson's R test, or Spearman's if you suspect a non-linear relationship.\")\n",
    "   \n",
    "    if type(col_one[1]) == and type(.col_two):\n",
    "    if type(col_one[1]) and type(col_two):"
   ]
  },
  {
   "cell_type": "code",
   "execution_count": 102,
   "id": "d9154801",
   "metadata": {},
   "outputs": [],
   "source": [
    "import numpy as np\n",
    "import matplotlib.pyplot as plt\n",
    "import scipy.stats as stats"
   ]
  },
  {
   "cell_type": "markdown",
   "id": "0cd78530",
   "metadata": {},
   "source": [
    "What kind of distribution is this talking about?\n",
    "\n",
    "Does this dataset meet parametric assumptions?\n",
    "\n",
    "What kind of stats test should I use?"
   ]
  },
  {
   "cell_type": "code",
   "execution_count": 95,
   "id": "2690e120",
   "metadata": {},
   "outputs": [],
   "source": [
    "esquire_dist = np.random.normal(40, 15,10000)"
   ]
  },
  {
   "cell_type": "code",
   "execution_count": 96,
   "id": "e2d4c8c3",
   "metadata": {},
   "outputs": [
    {
     "data": {
      "text/plain": [
       "[<matplotlib.lines.Line2D at 0x2aea4cfa0>]"
      ]
     },
     "execution_count": 96,
     "metadata": {},
     "output_type": "execute_result"
    },
    {
     "data": {
      "image/png": "[encoded data removed]",
      "text/plain": [
       "<Figure size 640x480 with 1 Axes>"
      ]
     },
     "metadata": {},
     "output_type": "display_data"
    }
   ],
   "source": [
    "plt.plot(esquire_dist)"
   ]
  },
  {
   "cell_type": "code",
   "execution_count": 97,
   "id": "d233d676",
   "metadata": {},
   "outputs": [],
   "source": [
    "import scipy.stats as stats\n",
    "\n",
    "mean_time = 40  # Mean time to order and eat the burger special (in minutes)\n",
    "std_dev = 15  # Standard deviation of the time (in minutes)\n",
    "walking_time = 10  # Walking time from Codeup to the restaurant (in minutes)\n",
    "lunch_hour = 60  # Total duration of the lunch hour (in minutes)\n"
   ]
  },
  {
   "cell_type": "markdown",
   "id": "b3f4790e",
   "metadata": {},
   "source": [
    "calculate the normal distribution"
   ]
  },
  {
   "cell_type": "code",
   "execution_count": 98,
   "id": "67defab6",
   "metadata": {},
   "outputs": [],
   "source": [
    "esquire_walk = np.random.normal(40, 15)"
   ]
  },
  {
   "cell_type": "code",
   "execution_count": 99,
   "id": "c9b82131",
   "metadata": {},
   "outputs": [
    {
     "data": {
      "text/plain": [
       "45.96390803810901"
      ]
     },
     "execution_count": 99,
     "metadata": {},
     "output_type": "execute_result"
    }
   ],
   "source": [
    "esquire_walk"
   ]
  },
  {
   "cell_type": "code",
   "execution_count": 100,
   "id": "ac2a329f",
   "metadata": {},
   "outputs": [
    {
     "data": {
      "image/png": "[encoded data removed]",
      "text/plain": [
       "<Figure size 640x480 with 1 Axes>"
      ]
     },
     "metadata": {},
     "output_type": "display_data"
    }
   ],
   "source": [
    "import numpy as np\n",
    "import matplotlib.pyplot as plt\n",
    "\n",
    "mean = 40\n",
    "std_dev = 15\n",
    "sample_size = 10000  # Number of samples to generate\n",
    "\n",
    "# Generate random samples from the normal distribution\n",
    "samples = np.random.normal(mean, std_dev, sample_size)\n",
    "\n",
    "# Plot the histogram of the samples\n",
    "plt.hist(samples, bins=50, density=True, alpha=0.7)\n",
    "\n",
    "# Set x and y labels\n",
    "plt.xlabel('Values')\n",
    "plt.ylabel('Frequency')\n",
    "\n",
    "# Set title\n",
    "plt.title('Normal Distribution')\n",
    "\n",
    "# Show the plot\n",
    "plt.show()\n"
   ]
  },
  {
   "cell_type": "code",
   "execution_count": 111,
   "id": "7a09ae35",
   "metadata": {},
   "outputs": [
    {
     "data": {
      "text/plain": [
       "0.84"
      ]
     },
     "execution_count": 111,
     "metadata": {},
     "output_type": "execute_result"
    }
   ],
   "source": [
    "samples = pd.Series(samples)\n",
    "\n",
    "round(stats.norm.cdf(55, samples.mean(), samples.std()), 2)"
   ]
  },
  {
   "cell_type": "code",
   "execution_count": 110,
   "id": "b1375c87",
   "metadata": {},
   "outputs": [
    {
     "name": "stdout",
     "output_type": "stream",
     "text": [
      "Probability of observing 70 successes: 0.0282555937033103\n",
      "CDF for observing 70 or fewer successes: 0.8489247128979024\n",
      "Odds of observing 70 successes: 0.18702988586223898\n"
     ]
    }
   ],
   "source": [
    "import scipy.stats as stats\n",
    "\n",
    "n = 618  # Number of observations\n",
    "p = 0.1  # Probability of success\n",
    "\n",
    "# Calculate the probability mass function (PMF) for observing 70 successes\n",
    "pmf_70 = stats.binom.pmf(70, n, p)\n",
    "\n",
    "# Calculate the cumulative distribution function (CDF) for observing 70 or fewer successes\n",
    "cdf_70_or_less = stats.binom.cdf(69, n, p)\n",
    "\n",
    "# Calculate the odds of observing 70 successes\n",
    "odds_70 = pmf_70 / (1 - cdf_70_or_less)\n",
    "\n",
    "print(\"Probability of observing 70 successes:\", pmf_70)\n",
    "print(\"CDF for observing 70 or fewer successes:\", cdf_70_or_less)\n",
    "print(\"Odds of observing 70 successes:\", odds_70)\n"
   ]
  }
 ],
 "metadata": {
  "kernelspec": {
   "display_name": "Python 3 (ipykernel)",
   "language": "python",
   "name": "python3"
  },
  "language_info": {
   "codemirror_mode": {
    "name": "ipython",
    "version": 3
   },
   "file_extension": ".py",
   "mimetype": "text/x-python",
   "name": "python",
   "nbconvert_exporter": "python",
   "pygments_lexer": "ipython3",
   "version": "3.10.9"
  }
 },
 "nbformat": 4,
 "nbformat_minor": 5
}
